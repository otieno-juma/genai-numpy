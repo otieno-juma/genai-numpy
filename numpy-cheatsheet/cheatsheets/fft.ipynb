{
 "cells": [
  {
   "cell_type": "markdown",
   "id": "ff38af8b-3942-4d95-960e-898091d969d8",
   "metadata": {},
   "source": [
    "**NumPy Cheatsheet for FFT Module**\n",
    "============================="
   ]
  },
  {
   "cell_type": "markdown",
   "id": "d42ee4ab-c7fb-4976-99c5-8af7e25a27b5",
   "metadata": {},
   "source": [
    "### **fft.fftfreq**\n",
    "---------------------\n",
    "\n",
    "#### Function Description\n",
    "Return the frequencies corresponding to the components of the FFT.\n",
    "\n",
    "#### Parameters\n",
    "\n",
    "* `n`: int, number of points\n",
    "* `d`: float, sample spacing (default 1.0)\n",
    "\n",
    "#### Returns\n",
    "\n",
    "* `f`: ndarray, frequencies\n",
    "\n",
    "#### Examples\n",
    "```python\n",
    "import numpy as np\n",
    "f = np.fft.fftfreq(8)\n",
    "print(f)\n",
    "```"
   ]
  },
  {
   "cell_type": "code",
   "execution_count": 3,
   "id": "27573395-a5f1-41f9-91da-a76f83e38157",
   "metadata": {},
   "outputs": [
    {
     "name": "stdout",
     "output_type": "stream",
     "text": [
      "[ 0.     0.125  0.25   0.375 -0.5   -0.375 -0.25  -0.125]\n"
     ]
    }
   ],
   "source": [
    "#Interactive Example\n",
    "import numpy as np\n",
    "f = np.fft.fftfreq(8)\n",
    "print(f)"
   ]
  },
  {
   "cell_type": "markdown",
   "id": "73748848-1cdf-4778-b0f7-67876a4e0d86",
   "metadata": {},
   "source": [
    "### **fft.fftshift**\n",
    "---------------------\n",
    "\n",
    "#### Function Description\n",
    "Shift the zero-frequency component to the center of the spectrum.\n",
    "\n",
    "#### Parameters\n",
    "\n",
    "* `x`: array_like, input array\n",
    "* `axes`: int or tuple, axes to shift (default None)\n",
    "\n",
    "#### Returns\n",
    "\n",
    "* `x`: ndarray, shifted array\n",
    "\n",
    "#### Examples\n",
    "```python\n",
    "import numpy as np\n",
    "x = np.fft.ifftshift([0, 1, 2, 3, 4, -5, -4, -3, -2, -1])\n",
    "print(x)\n",
    "```"
   ]
  },
  {
   "cell_type": "code",
   "execution_count": 4,
   "id": "1fa6bfaa-b91a-4135-82db-0c52dca06eb8",
   "metadata": {},
   "outputs": [
    {
     "name": "stdout",
     "output_type": "stream",
     "text": [
      "[-5 -4 -3 -2 -1  0  1  2  3  4]\n"
     ]
    }
   ],
   "source": [
    "#Interactive Example\n",
    "import numpy as np\n",
    "x = np.fft.ifftshift([0, 1, 2, 3, 4, -5, -4, -3, -2, -1])\n",
    "print(x)"
   ]
  },
  {
   "cell_type": "markdown",
   "id": "2ff0135e-b91d-41c8-adaf-748e4fa9fdb2",
   "metadata": {},
   "source": [
    "### **fft.ifftshift**\n",
    "---------------------\n",
    "\n",
    "#### Function Description\n",
    "Inverse of `fftshift`.\n",
    "\n",
    "#### Parameters\n",
    "\n",
    "* `x`: array_like, input array\n",
    "* `axes`: int or tuple, axes to shift (default None)\n",
    "\n",
    "#### Returns\n",
    "\n",
    "* `x`: ndarray, shifted array\n",
    "\n",
    "#### Examples\n",
    "```python\n",
    "import numpy as np\n",
    "x = np.fft.ifftshift([0, 1, 2, 3, 4, -5, -4, -3, -2, -1])\n",
    "print(x)\n",
    "```"
   ]
  },
  {
   "cell_type": "code",
   "execution_count": 5,
   "id": "8a3d68bc-f0ce-41c1-a6ec-06dc6d2cd520",
   "metadata": {},
   "outputs": [
    {
     "name": "stdout",
     "output_type": "stream",
     "text": [
      "[-5 -4 -3 -2 -1  0  1  2  3  4]\n"
     ]
    }
   ],
   "source": [
    "#Interactive Example\n",
    "import numpy as np\n",
    "x = np.fft.ifftshift([0, 1, 2, 3, 4, -5, -4, -3, -2, -1])\n",
    "print(x)"
   ]
  },
  {
   "cell_type": "markdown",
   "id": "13288740-71d6-4dd2-8d92-05e0b660337e",
   "metadata": {},
   "source": [
    "### **fft.fft**\n",
    "----------------\n",
    "\n",
    "#### Function Description\n",
    "Compute the one-dimensional discrete Fourier Transform.\n",
    "\n",
    "#### Parameters\n",
    "\n",
    "* `x`: array_like, input array\n",
    "* `n`: int, length of the transform (default None)\n",
    "* `axis`: int, axis along which to compute the transform (default -1)\n",
    "\n",
    "#### Returns\n",
    "\n",
    "* `out`: ndarray, complex transform\n",
    "\n",
    "#### Examples\n",
    "```python\n",
    "import numpy as np\n",
    "x = np.array([0, 1, 2, 3])\n",
    "X = np.fft.fft(x)\n",
    "print(X)\n",
    "```"
   ]
  },
  {
   "cell_type": "code",
   "execution_count": 6,
   "id": "d9ecaf61-7389-4192-937f-121d6dd7f673",
   "metadata": {},
   "outputs": [
    {
     "name": "stdout",
     "output_type": "stream",
     "text": [
      "[ 6.+0.j -2.+2.j -2.+0.j -2.-2.j]\n"
     ]
    }
   ],
   "source": [
    "#Interactive Example\n",
    "import numpy as np\n",
    "x = np.array([0, 1, 2, 3])\n",
    "X = np.fft.fft(x)\n",
    "print(X)"
   ]
  },
  {
   "cell_type": "markdown",
   "id": "794cd67b-093b-4fb1-a3b1-1a63cc2c8b5b",
   "metadata": {},
   "source": [
    "### **fft.ifft**\n",
    "-----------------\n",
    "\n",
    "#### Function Description\n",
    "Compute the inverse one-dimensional discrete Fourier Transform.\n",
    "\n",
    "#### Parameters\n",
    "\n",
    "* `x`: array_like, input array\n",
    "* `n`: int, length of the transform (default None)\n",
    "* `axis`: int, axis along which to compute the transform (default -1)\n",
    "\n",
    "#### Returns\n",
    "\n",
    "* `out`: ndarray, real-value inverse transform\n",
    "\n",
    "#### Examples\n",
    "```python\n",
    "import numpy as np\n",
    "X = np.array([0, 1, 2, 3])\n",
    "x = np.fft.ifft(X)\n",
    "print(x)\n",
    "```"
   ]
  },
  {
   "cell_type": "code",
   "execution_count": 7,
   "id": "8486ea09-3013-4b6e-a38c-04ede6fe2e26",
   "metadata": {},
   "outputs": [
    {
     "name": "stdout",
     "output_type": "stream",
     "text": [
      "[ 1.5+0.j  -0.5-0.5j -0.5+0.j  -0.5+0.5j]\n"
     ]
    }
   ],
   "source": [
    "#Interactive Example\n",
    "import numpy as np\n",
    "X = np.array([0, 1, 2, 3])\n",
    "x = np.fft.ifft(X)\n",
    "print(x)"
   ]
  },
  {
   "cell_type": "markdown",
   "id": "cd7e900e-b70a-4cfd-9724-3555eadb6696",
   "metadata": {},
   "source": [
    "### **fft.fft2**\n",
    "-----------------\n",
    "\n",
    "#### Function Description\n",
    "Compute the two-dimensional discrete Fourier Transform.\n",
    "\n",
    "#### Parameters\n",
    "\n",
    "* `x`: array_like, input array\n",
    "* `s`: int or tuple, shape of the output (default None)\n",
    "* `axes`: int or tuple, axes along which to compute the transform (default (-2, -1))\n",
    "\n",
    "#### Returns\n",
    "\n",
    "* `out`: ndarray, complex transform\n",
    "\n",
    "#### Examples\n",
    "```python\n",
    "import numpy as np\n",
    "x = np.random.rand(4, 4)\n",
    "X = np.fft.fft2(x)\n",
    "print(X)\n",
    "```"
   ]
  },
  {
   "cell_type": "code",
   "execution_count": 8,
   "id": "e1f0972e-85d4-496d-89be-08e316ee28d5",
   "metadata": {},
   "outputs": [
    {
     "name": "stdout",
     "output_type": "stream",
     "text": [
      "[[ 7.18440424+0.j         -0.28588999+0.92860837j  0.9317531 +0.j\n",
      "  -0.28588999-0.92860837j]\n",
      " [-0.31217654-0.31603848j -0.24383863-0.63406316j -0.04569338-0.99550434j\n",
      "   0.94453467+0.15520717j]\n",
      " [-2.82828662+0.j         -0.10452976-1.49670899j -1.8265035 +0.j\n",
      "  -0.10452976+1.49670899j]\n",
      " [-0.31217654+0.31603848j  0.94453467-0.15520717j -0.04569338+0.99550434j\n",
      "  -0.24383863+0.63406316j]]\n"
     ]
    }
   ],
   "source": [
    "#Interactive Example\n",
    "import numpy as np\n",
    "x = np.random.rand(4, 4)\n",
    "X = np.fft.fft2(x)\n",
    "print(X)"
   ]
  },
  {
   "cell_type": "markdown",
   "id": "ffbbb0fb-2f52-4285-aca6-8680dfe3e878",
   "metadata": {},
   "source": [
    "### **fft.fftn**\n",
    "-----------------\n",
    "\n",
    "#### Function Description\n",
    "Compute the N-dimensional discrete Fourier Transform.\n",
    "\n",
    "#### Parameters\n",
    "\n",
    "* `x`: array_like, input array\n",
    "* `s`: int or tuple, shape of the output (default None)\n",
    "* `axes`: int or tuple, axes along which to compute the transform (default None)\n",
    "\n",
    "#### Returns\n",
    "\n",
    "* `out`: ndarray, complex transform\n",
    "\n",
    "#### Examples\n",
    "```python\n",
    "import numpy as np\n",
    "x = np.random.rand(4, 4, 4)\n",
    "X = np.fft.fftn(x)\n",
    "print(X)\n",
    "```\n"
   ]
  },
  {
   "cell_type": "code",
   "execution_count": 9,
   "id": "663ca9af-c1fb-40ad-b8f0-c233d52de781",
   "metadata": {},
   "outputs": [
    {
     "name": "stdout",
     "output_type": "stream",
     "text": [
      "[[[ 2.91111970e+01+0.j          2.18445863e+00+0.2059687j\n",
      "    1.84882849e+00+0.j          2.18445863e+00-0.2059687j ]\n",
      "  [ 1.43244344e+00+0.61358822j  1.62223770e+00-2.89290803j\n",
      "   -1.09277125e+00+3.06638562j -1.14734287e+00-3.2575078j ]\n",
      "  [-3.20246331e+00+0.j          4.03213774e-01+2.61798371j\n",
      "   -1.28917558e-01+0.j          4.03213774e-01-2.61798371j]\n",
      "  [ 1.43244344e+00-0.61358822j -1.14734287e+00+3.2575078j\n",
      "   -1.09277125e+00-3.06638562j  1.62223770e+00+2.89290803j]]\n",
      "\n",
      " [[-2.34377728e-02-0.15994133j  1.65097347e+00-1.46204245j\n",
      "   -3.19608813e-01-0.11396537j -3.84152791e+00+1.19502024j]\n",
      "  [ 1.64536863e+00+3.40947028j -6.52408524e-01-0.11786153j\n",
      "   -2.81375016e-01+1.44277624j  7.94626652e-01-0.45133904j]\n",
      "  [-5.20864015e-01-0.16853778j -4.12856688e-02+0.86276214j\n",
      "   -4.62853065e-01-0.35921932j -1.99625912e+00-0.34130236j]\n",
      "  [ 1.82974693e+00+2.71036431j  1.65836104e+00+0.05450485j\n",
      "   -1.19128174e+00-1.27191828j  1.41252929e-01-0.11626812j]]\n",
      "\n",
      " [[-3.84008676e+00+0.j          4.32892157e-01-1.05504042j\n",
      "   -3.19144235e+00+0.j          4.32892157e-01+1.05504042j]\n",
      "  [ 7.09505457e-01-1.23207148j -2.32349950e+00+0.60032401j\n",
      "    9.34492848e-01-2.7852464j   1.01341616e+00-3.15495889j]\n",
      "  [-4.45711907e-01+0.j         -2.41660208e-01+0.42274108j\n",
      "   -2.06718999e+00+0.j         -2.41660208e-01-0.42274108j]\n",
      "  [ 7.09505457e-01+1.23207148j  1.01341616e+00+3.15495889j\n",
      "    9.34492848e-01+2.7852464j  -2.32349950e+00-0.60032401j]]\n",
      "\n",
      " [[-2.34377728e-02+0.15994133j -3.84152791e+00-1.19502024j\n",
      "   -3.19608813e-01+0.11396537j  1.65097347e+00+1.46204245j]\n",
      "  [ 1.82974693e+00-2.71036431j  1.41252929e-01+0.11626812j\n",
      "   -1.19128174e+00+1.27191828j  1.65836104e+00-0.05450485j]\n",
      "  [-5.20864015e-01+0.16853778j -1.99625912e+00+0.34130236j\n",
      "   -4.62853065e-01+0.35921932j -4.12856688e-02-0.86276214j]\n",
      "  [ 1.64536863e+00-3.40947028j  7.94626652e-01+0.45133904j\n",
      "   -2.81375016e-01-1.44277624j -6.52408524e-01+0.11786153j]]]\n"
     ]
    }
   ],
   "source": [
    "#Interactive Example\n",
    "import numpy as np\n",
    "x = np.random.rand(4, 4, 4)\n",
    "X = np.fft.fftn(x)\n",
    "print(X)"
   ]
  },
  {
   "cell_type": "markdown",
   "id": "9d995ed5-a394-4009-bf19-7b764c3550e9",
   "metadata": {},
   "source": [
    "### **rfft2**\n",
    "-------------\n",
    "\n",
    "#### Function Description\n",
    "Compute the 2-dimensional FFT of a real array.\n",
    "\n",
    "#### Parameters\n",
    "\n",
    "* `a`: `(M, N)` input array\n",
    "* `s`: Output shape. If `s` not given, shape of `a` is used.\n",
    "* `axes`: Axes to perform FFT over.\n",
    "\n",
    "#### Returns\n",
    "\n",
    "* `out`: Complex nd-array with `M, N` shape.\n",
    "\n",
    "#### Examples\n",
    "\n",
    "```python\n",
    "import numpy as np\n",
    "\n",
    "a = np.random.rand(10, 10)\n",
    "out = np.fft.rfft2(a)\n",
    "```"
   ]
  },
  {
   "cell_type": "code",
   "execution_count": 10,
   "id": "e6e2070c-27a6-4cc3-a498-5bdfc7f1c93a",
   "metadata": {},
   "outputs": [
    {
     "name": "stdout",
     "output_type": "stream",
     "text": [
      "[[0.04132361 0.97470757 0.30936391 0.37225306 0.17759198 0.87419919\n",
      "  0.94587544 0.34995139 0.67470379 0.73674403]\n",
      " [0.43706535 0.14404895 0.69763164 0.73649637 0.5036577  0.86220461\n",
      "  0.06247026 0.21667551 0.90878606 0.38383741]\n",
      " [0.61767977 0.8789166  0.70058029 0.4081488  0.77429735 0.90304381\n",
      "  0.9255557  0.05243389 0.01558971 0.74052646]\n",
      " [0.33643248 0.39050778 0.47047483 0.65958388 0.99647011 0.23628256\n",
      "  0.15113449 0.25596892 0.33555398 0.67502199]\n",
      " [0.03722341 0.3992667  0.35676902 0.46781269 0.23982992 0.74240027\n",
      "  0.40992709 0.79463121 0.1011416  0.06723734]\n",
      " [0.07466921 0.27048113 0.80688037 0.63862839 0.73563715 0.80782397\n",
      "  0.50493445 0.07746027 0.92198123 0.16556583]\n",
      " [0.34695226 0.43969988 0.89048081 0.34296318 0.64003698 0.47985502\n",
      "  0.41142037 0.93191904 0.69660813 0.0949378 ]\n",
      " [0.99266054 0.54761269 0.08935498 0.53927021 0.35024588 0.12085785\n",
      "  0.04089951 0.3716816  0.05450713 0.41177222]\n",
      " [0.6040373  0.87037251 0.35564872 0.87798817 0.41332513 0.32769776\n",
      "  0.215039   0.42407994 0.02935415 0.76394214]\n",
      " [0.99813369 0.71549931 0.04547302 0.11992526 0.70314686 0.91566599\n",
      "  0.49765542 0.81911144 0.24724947 0.88797545]]\n"
     ]
    }
   ],
   "source": [
    "#Interactive Example\n",
    "import numpy as np\n",
    "\n",
    "a = np.random.rand(10, 10)\n",
    "out = np.fft.rfft2(a)\n",
    "print(a)"
   ]
  },
  {
   "cell_type": "markdown",
   "id": "4d68f570-57bd-41ac-89fa-961dd8d70f14",
   "metadata": {},
   "source": [
    "### **irfft2**\n",
    "-------------\n",
    "\n",
    "#### Function Description\n",
    "Compute the 2-dimensional inverse FFT of a real array.\n",
    "\n",
    "#### Parameters\n",
    "\n",
    "* `a`: `(M, N)` input array\n",
    "* `s`: Output shape. If `s` not given, shape of `a` is used.\n",
    "* `axes`: Axes to perform inverse FFT over.\n",
    "\n",
    "#### Returns\n",
    "\n",
    "* `out`: Real nd-array with `M, N` shape.\n",
    "\n",
    "#### Examples\n",
    "\n",
    "```python\n",
    "import numpy as np\n",
    "\n",
    "a = np.random.rand(10, 10)\n",
    "out = np.fft.irfft2(a)\n",
    "```"
   ]
  },
  {
   "cell_type": "code",
   "execution_count": 11,
   "id": "2482bfbf-2351-47ba-83da-b46150eb670e",
   "metadata": {},
   "outputs": [
    {
     "name": "stdout",
     "output_type": "stream",
     "text": [
      "[[ 4.91218094e-01  2.84616393e-02  1.35230770e-02 -6.90431472e-03\n",
      "   7.70667116e-03 -5.01634823e-03 -4.30560548e-02 -3.58759865e-02\n",
      "  -3.35414397e-02 -1.78040470e-02 -3.35414397e-02 -3.58759865e-02\n",
      "  -4.30560548e-02 -5.01634823e-03  7.70667116e-03 -6.90431472e-03\n",
      "   1.35230770e-02  2.84616393e-02]\n",
      " [ 6.26119466e-03 -1.87588091e-02 -4.04709508e-02  2.10280065e-02\n",
      "  -6.65812191e-03 -1.92803002e-02  1.70827302e-02 -1.47392946e-02\n",
      "   1.01736794e-02  1.35008888e-02  7.43920961e-03 -3.71392129e-02\n",
      "   1.02317934e-02  3.23862512e-02 -4.83351372e-02 -1.74361320e-02\n",
      "   3.71529387e-02  3.74994828e-02]\n",
      " [ 6.31536997e-03  2.26171736e-02 -3.29059130e-02  3.96977079e-02\n",
      "   1.72455834e-02  1.18132988e-02 -4.98337791e-02  1.01230733e-02\n",
      "  -2.10989132e-02  1.01596743e-03 -9.54738679e-03 -7.91377368e-03\n",
      "   2.02589589e-03 -2.46809009e-02  2.55298249e-02 -4.41777811e-03\n",
      "   1.63747712e-02 -3.01053635e-02]\n",
      " [ 3.74508208e-02 -3.06175163e-02 -2.50569950e-02 -2.10495370e-02\n",
      "   8.07540256e-03 -7.60494595e-03 -1.80262269e-02  1.97035987e-02\n",
      "   4.21307796e-02 -2.31236484e-02 -5.06179259e-03  1.62385794e-02\n",
      "  -1.49075447e-02 -4.43625717e-02 -3.27928488e-02  1.83306659e-02\n",
      "   4.37330445e-03  3.82401965e-02]\n",
      " [ 3.76450659e-03 -1.59148345e-02 -6.10792444e-03 -1.72521936e-02\n",
      "  -1.09457032e-02 -3.08380562e-02  9.88611106e-03 -5.37527699e-03\n",
      "   2.16319539e-02  3.01622531e-02 -1.85318675e-02 -6.27453558e-03\n",
      "  -3.37114176e-02  4.31531479e-02  2.71773555e-02 -1.48705622e-02\n",
      "   6.70967292e-03 -1.07661333e-02]\n",
      " [ 5.84244795e-02 -5.57766018e-03 -3.71796544e-03 -2.32401586e-03\n",
      "   1.40423771e-02 -1.12296687e-02  3.17332824e-03  2.07443793e-04\n",
      "  -3.11998440e-03 -1.25262241e-02 -3.11998440e-03  2.07443793e-04\n",
      "   3.17332824e-03 -1.12296687e-02  1.40423771e-02 -2.32401586e-03\n",
      "  -3.71796544e-03 -5.57766018e-03]\n",
      " [ 3.76450659e-03 -1.07661333e-02  6.70967292e-03 -1.48705622e-02\n",
      "   2.71773555e-02  4.31531479e-02 -3.37114176e-02 -6.27453558e-03\n",
      "  -1.85318675e-02  3.01622531e-02  2.16319539e-02 -5.37527699e-03\n",
      "   9.88611106e-03 -3.08380562e-02 -1.09457032e-02 -1.72521936e-02\n",
      "  -6.10792444e-03 -1.59148345e-02]\n",
      " [ 3.74508208e-02  3.82401965e-02  4.37330445e-03  1.83306659e-02\n",
      "  -3.27928488e-02 -4.43625717e-02 -1.49075447e-02  1.62385794e-02\n",
      "  -5.06179259e-03 -2.31236484e-02  4.21307796e-02  1.97035987e-02\n",
      "  -1.80262269e-02 -7.60494595e-03  8.07540256e-03 -2.10495370e-02\n",
      "  -2.50569950e-02 -3.06175163e-02]\n",
      " [ 6.31536997e-03 -3.01053635e-02  1.63747712e-02 -4.41777811e-03\n",
      "   2.55298249e-02 -2.46809009e-02  2.02589589e-03 -7.91377368e-03\n",
      "  -9.54738679e-03  1.01596743e-03 -2.10989132e-02  1.01230733e-02\n",
      "  -4.98337791e-02  1.18132988e-02  1.72455834e-02  3.96977079e-02\n",
      "  -3.29059130e-02  2.26171736e-02]\n",
      " [ 6.26119466e-03  3.74994828e-02  3.71529387e-02 -1.74361320e-02\n",
      "  -4.83351372e-02  3.23862512e-02  1.02317934e-02 -3.71392129e-02\n",
      "   7.43920961e-03  1.35008888e-02  1.01736794e-02 -1.47392946e-02\n",
      "   1.70827302e-02 -1.92803002e-02 -6.65812191e-03  2.10280065e-02\n",
      "  -4.04709508e-02 -1.87588091e-02]]\n"
     ]
    }
   ],
   "source": [
    "#Interactive Example\n",
    "import numpy as np\n",
    "\n",
    "a = np.random.rand(10, 10)\n",
    "out = np.fft.irfft2(a)\n",
    "print(out)"
   ]
  },
  {
   "cell_type": "markdown",
   "id": "538c729c-b3dc-4e56-a884-068028cf4ac9",
   "metadata": {},
   "source": [
    "### **hfft**\n",
    "------------\n",
    "\n",
    "#### Function Description\n",
    "Compute the FFT of a Hermitian sequence.\n",
    "\n",
    "#### Parameters\n",
    "\n",
    "* `x`: Input array\n",
    "* `n`: Length of the transformed axis of the output.\n",
    "* `norm`: Normalization mode.\n",
    "\n",
    "#### Returns\n",
    "\n",
    "* `out`: Complex nd-array.\n",
    "\n",
    "#### Examples\n",
    "\n",
    "```python\n",
    "import numpy as np\n",
    "\n",
    "x = np.random.rand(10)\n",
    "out = np.fft.hfft(x)\n",
    "```"
   ]
  },
  {
   "cell_type": "code",
   "execution_count": 12,
   "id": "ec1a1020-6e98-45ea-a73e-00ec07b9658a",
   "metadata": {},
   "outputs": [
    {
     "name": "stdout",
     "output_type": "stream",
     "text": [
      "[10.55641149  0.22200875 -1.1429045  -1.02522544  0.48236107 -0.89602155\n",
      " -2.36792708 -0.33812006  0.25234331  1.36867417  0.25234331 -0.33812006\n",
      " -2.36792708 -0.89602155  0.48236107 -1.02522544 -1.1429045   0.22200875]\n"
     ]
    }
   ],
   "source": [
    "#Interactive Example\n",
    "import numpy as np\n",
    "\n",
    "x = np.random.rand(10)\n",
    "out = np.fft.hfft(x)\n",
    "print(out)"
   ]
  },
  {
   "cell_type": "markdown",
   "id": "93a1217d-17df-44e6-8604-d8e9777b3e0b",
   "metadata": {},
   "source": [
    "### **ihfft**\n",
    "-------------\n",
    "\n",
    "#### Function Description\n",
    "Compute the inverse FFT of a Hermitian sequence.\n",
    "\n",
    "#### Parameters\n",
    "\n",
    "* `x`: Input array\n",
    "* `n`: Length of the transformed axis of the output.\n",
    "* `norm`: Normalization mode.\n",
    "\n",
    "#### Returns\n",
    "\n",
    "* `out`: Real nd-array.\n",
    "\n",
    "#### Examples\n",
    "\n",
    "```python\n",
    "import numpy as np\n",
    "\n",
    "x = np.random.rand(10)\n",
    "out = np.fft.ihfft(x)\n",
    "```"
   ]
  },
  {
   "cell_type": "code",
   "execution_count": 13,
   "id": "3981160e-e26f-41d5-bae2-b744fc37563d",
   "metadata": {},
   "outputs": [
    {
     "name": "stdout",
     "output_type": "stream",
     "text": [
      "[0.26678221-0.j         0.03756382+0.01622948j 0.0821006 +0.00853042j\n",
      " 0.1060223 +0.02614242j 0.02611152+0.00817166j 0.00374137-0.j        ]\n"
     ]
    }
   ],
   "source": [
    "#Interactive Example\n",
    "import numpy as np\n",
    "\n",
    "x = np.random.rand(10)\n",
    "out = np.fft.ihfft(x)\n",
    "print(out)"
   ]
  },
  {
   "cell_type": "markdown",
   "id": "0d3956a8-392b-499c-95ae-5393a10684d5",
   "metadata": {},
   "source": [
    "### **rfftfreq**\n",
    "-------------\n",
    "\n",
    "#### Function Description\n",
    "Return the frequencies corresponding to the components of the one-dimensional FFT of a real sequence.\n",
    "\n",
    "#### Parameters\n",
    "\n",
    "* `n`: int, Number of data points.\n",
    "* `d`: float, Sample spacing.\n",
    "\n",
    "#### Returns\n",
    "\n",
    "* `f`: An array of length `n` containing the sample frequencies.\n",
    "\n",
    "#### Examples\n",
    "\n",
    "```python\n",
    "import numpy as np\n",
    "\n",
    "n = 10\n",
    "d = 0.1\n",
    "f = np.fft.rfftfreq(n, d)\n",
    "```"
   ]
  },
  {
   "cell_type": "code",
   "execution_count": 14,
   "id": "fa205408-bbca-44a1-88a6-4cd7591c0186",
   "metadata": {},
   "outputs": [
    {
     "name": "stdout",
     "output_type": "stream",
     "text": [
      "[0. 1. 2. 3. 4. 5.]\n"
     ]
    }
   ],
   "source": [
    "#Interactive Example\n",
    "import numpy as np\n",
    "\n",
    "n = 10\n",
    "d = 0.1\n",
    "f = np.fft.rfftfreq(n, d)\n",
    "print(f)"
   ]
  },
  {
   "cell_type": "code",
   "execution_count": null,
   "id": "72381af6-26fb-42f9-9482-20700977d561",
   "metadata": {},
   "outputs": [],
   "source": []
  },
  {
   "cell_type": "markdown",
   "id": "994d75ac-ec1e-477f-badc-dd683bc3db10",
   "metadata": {},
   "source": [
    "### **ifftshift**\n",
    "-------------\n",
    "\n",
    "#### Function Description\n",
    "Shift the zero-frequency component to the edges of the spectrum.\n",
    "\n",
    "#### Parameters\n",
    "\n",
    "* `x`: Input array.\n",
    "* `axes`: Axes to shift.\n",
    "\n",
    "#### Returns\n",
    "\n",
    "* `x`: Shifted array.\n",
    "\n",
    "#### Examples\n",
    "\n",
    "```python\n",
    "import numpy as np\n",
    "\n",
    "x = np.random.rand(10, 10)\n",
    "x = np.fft.ifftshift(x)\n",
    "```"
   ]
  },
  {
   "cell_type": "code",
   "execution_count": 16,
   "id": "22b6aa43-3288-4ba4-b07c-b99316574094",
   "metadata": {},
   "outputs": [
    {
     "name": "stdout",
     "output_type": "stream",
     "text": [
      "[[0.41885903 0.88695869 0.88767036 0.06376144 0.42436464 0.03909701\n",
      "  0.29380065 0.69551039 0.12437527 0.74121348]\n",
      " [0.83979606 0.4377786  0.08450499 0.9642353  0.41921765 0.62914612\n",
      "  0.5742986  0.35316467 0.24145649 0.72814839]\n",
      " [0.12125825 0.1634997  0.18631186 0.13512476 0.24406237 0.43090171\n",
      "  0.56301446 0.28560774 0.53211386 0.93182888]\n",
      " [0.91563659 0.95847922 0.66031804 0.48255048 0.79448593 0.44848054\n",
      "  0.95960692 0.42417553 0.3750774  0.67243983]\n",
      " [0.59481459 0.96561556 0.04476527 0.81357886 0.4306207  0.45769313\n",
      "  0.52776887 0.49198059 0.940521   0.42664899]\n",
      " [0.66626165 0.36836465 0.40300801 0.28672265 0.38016614 0.36096826\n",
      "  0.41915422 0.21601177 0.22282742 0.59265828]\n",
      " [0.72560862 0.70404129 0.4136459  0.34147847 0.26896839 0.49528031\n",
      "  0.03374585 0.72286857 0.55211247 0.06735885]\n",
      " [0.75394523 0.66763229 0.53637655 0.09180692 0.88449244 0.10373825\n",
      "  0.691253   0.12927151 0.01349504 0.22313705]\n",
      " [0.42751406 0.19054847 0.35511714 0.79401931 0.87184374 0.43838641\n",
      "  0.9888874  0.42260632 0.62989622 0.53206731]\n",
      " [0.18313943 0.41651209 0.42165648 0.08787716 0.6799393  0.75563055\n",
      "  0.45702385 0.82488496 0.04700913 0.4267514 ]]\n"
     ]
    }
   ],
   "source": [
    "#Interactive Example\n",
    "import numpy as np\n",
    "\n",
    "x = np.random.rand(10, 10)\n",
    "x = np.fft.ifftshift(x)\n",
    "print(x)"
   ]
  }
 ],
 "metadata": {
  "kernelspec": {
   "display_name": "numpy-dev",
   "language": "python",
   "name": "numpy-dev"
  },
  "language_info": {
   "codemirror_mode": {
    "name": "ipython",
    "version": 3
   },
   "file_extension": ".py",
   "mimetype": "text/x-python",
   "name": "python",
   "nbconvert_exporter": "python",
   "pygments_lexer": "ipython3",
   "version": "3.11.9"
  }
 },
 "nbformat": 4,
 "nbformat_minor": 5
}

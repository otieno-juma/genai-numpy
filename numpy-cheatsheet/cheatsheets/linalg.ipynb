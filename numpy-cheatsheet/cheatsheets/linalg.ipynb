{
 "cells": [
  {
   "cell_type": "markdown",
   "id": "2800d13d-6316-40ac-9529-c369eec05077",
   "metadata": {},
   "source": [
    "### Cheatsheet for Linear Algebra Functions"
   ]
  },
  {
   "cell_type": "markdown",
   "id": "fb9ac0c3-6130-4728-9c30-85766fcc9baa",
   "metadata": {},
   "source": [
    "#### `inv`\n",
    "##### Function Description\n",
    "Compute the inverse of a matrix.\n",
    "\n",
    "##### Parameters\n",
    "* `a` : (…, M, M) array_like\n",
    " Matrix to be inverted.\n",
    "\n",
    "##### Returns\n",
    "* `a_inv` : (…, M, M) ndarray\n",
    "Inverse of the input matrix `a`.\n",
    "\n",
    "##### Examples\n",
    "```python\n",
    "import numpy as np\n",
    "a = np.array([[1, 2], [3, 4]])\n",
    "a_inv = np.linalg.inv(a)"
   ]
  },
  {
   "cell_type": "code",
   "execution_count": 1,
   "id": "9756bd0e-1169-4764-bb88-13b89963297c",
   "metadata": {},
   "outputs": [
    {
     "data": {
      "text/plain": [
       "array([[-2. ,  1. ],\n",
       "       [ 1.5, -0.5]])"
      ]
     },
     "execution_count": 1,
     "metadata": {},
     "output_type": "execute_result"
    }
   ],
   "source": [
    "# Interactive Example\n",
    "import numpy as np\n",
    "a = np.array([[1, 2], [3, 4]])\n",
    "a_inv = np.linalg.inv(a)\n",
    "a_inv"
   ]
  },
  {
   "cell_type": "markdown",
   "id": "126e9df3-f0f8-48b4-a484-4c1a18ca0d0b",
   "metadata": {},
   "source": [
    "#### `pinv`\n",
    "##### Function Description\n",
    "Compute the Moore-Penrose pseudoinverse of a matrix.\n",
    "\n",
    "##### Parameters\n",
    "* `a` : (…, M, N) array_like\n",
    " Matrix to be pseudoinverted.\n",
    "\n",
    "##### Returns\n",
    "* `a_inv` : (…, N, M) ndarray\n",
    "Moore-Penrose pseudoinverse of the input matrix `a`.\n",
    "\n",
    "##### Examples\n",
    "```python\n",
    "import numpy as np\n",
    "a = np.array([[1, 2], [3, 4]])\n",
    "a_pin = np.linalg.pinv(a)\n",
    "```"
   ]
  },
  {
   "cell_type": "code",
   "execution_count": 2,
   "id": "ba4a9131-258d-4491-aa94-d9ef3e64ade7",
   "metadata": {},
   "outputs": [
    {
     "data": {
      "text/plain": [
       "array([[-2. ,  1. ],\n",
       "       [ 1.5, -0.5]])"
      ]
     },
     "execution_count": 2,
     "metadata": {},
     "output_type": "execute_result"
    }
   ],
   "source": [
    "# Interactive Example\n",
    "import numpy as np\n",
    "a = np.array([[1, 2], [3, 4]])\n",
    "a_pin = np.linalg.pinv(a)\n",
    "a_pin"
   ]
  },
  {
   "cell_type": "markdown",
   "id": "7b382d27-5e1c-4f02-812e-26d82b9ff6ef",
   "metadata": {},
   "source": [
    "#### `matrix_rank`\n",
    "##### Function Description\n",
    "Return the rank of a matrix.\n",
    "\n",
    "##### Parameters\n",
    "* `M` : array_like\n",
    "Input matrix.\n",
    "\n",
    "##### Returns\n",
    "* `rank` : int\n",
    "Rank of the input matrix `M`.\n",
    "\n",
    "##### Examples\n",
    "```python\n",
    "import numpy as np\n",
    "M = np.array([[1, 2], [3, 4]])\n",
    "rank = np.linalg.matrix_rank(M)\n",
    "```"
   ]
  },
  {
   "cell_type": "code",
   "execution_count": 3,
   "id": "1456598b-a4ff-44c1-8ca3-cf6696e5f714",
   "metadata": {},
   "outputs": [
    {
     "data": {
      "text/plain": [
       "np.int64(2)"
      ]
     },
     "execution_count": 3,
     "metadata": {},
     "output_type": "execute_result"
    }
   ],
   "source": [
    "# Interactive Example\n",
    "import numpy as np\n",
    "M = np.array([[1, 2], [3, 4]])\n",
    "rank = np.linalg.matrix_rank(M)\n",
    "rank"
   ]
  },
  {
   "cell_type": "markdown",
   "id": "f38d39e0-791d-4b17-9da3-0136661b6534",
   "metadata": {},
   "source": [
    "#### `det`\n",
    "##### Function Description\n",
    "Compute the determinant of a matrix.\n",
    "\n",
    "##### Parameters\n",
    "* `a` : array_like\n",
    "Input matrix.\n",
    "\n",
    "##### Returns\n",
    "* `det` : float\n",
    "Determinant of the input matrix `a`.\n",
    "\n",
    "##### Examples\n",
    "```python\n",
    "import numpy as np\n",
    "a = np.array([[1, 2], [3, 4]])\n",
    "det_a = np.linalg.det(a)\n",
    "```"
   ]
  },
  {
   "cell_type": "code",
   "execution_count": 4,
   "id": "9f679268-147f-493b-8fae-7dbca2583184",
   "metadata": {},
   "outputs": [
    {
     "data": {
      "text/plain": [
       "np.float64(-2.0000000000000004)"
      ]
     },
     "execution_count": 4,
     "metadata": {},
     "output_type": "execute_result"
    }
   ],
   "source": [
    "# Interactive Example\n",
    "import numpy as np\n",
    "a = np.array([[1, 2], [3, 4]])\n",
    "det_a = np.linalg.det(a)\n",
    "det_a"
   ]
  },
  {
   "cell_type": "markdown",
   "id": "ec225f79-1a1b-4ec0-9837-e7c2ab359ba0",
   "metadata": {},
   "source": [
    "#### `eig`\n",
    "##### Function Description\n",
    "Compute the eigenvalues and right eigenvectors of a square matrix.\n",
    "\n",
    "##### Parameters\n",
    "* `a` : array_like\n",
    "Square matrix.\n",
    "\n",
    "##### Returns\n",
    "* `w` : ndarray\n",
    "Eigenvalues.\n",
    "* `v` : ndarray\n",
    "Right eigenvectors.\n",
    "\n",
    "##### Examples\n",
    "```python\n",
    "import numpy as np\n",
    "a = np.array([[1, 2], [3, 4]])\n",
    "w, v = np.linalg.eig(a)\n",
    "```"
   ]
  },
  {
   "cell_type": "code",
   "execution_count": 5,
   "id": "8211c841-b223-4c7b-9db6-bcdf1312415d",
   "metadata": {},
   "outputs": [
    {
     "data": {
      "text/plain": [
       "(array([-0.37228132,  5.37228132]),\n",
       " array([[-0.82456484, -0.41597356],\n",
       "        [ 0.56576746, -0.90937671]]))"
      ]
     },
     "execution_count": 5,
     "metadata": {},
     "output_type": "execute_result"
    }
   ],
   "source": [
    "# Interactive Example\n",
    "import numpy as np\n",
    "a = np.array([[1, 2], [3, 4]])\n",
    "w, v = np.linalg.eig(a)\n",
    "w, v"
   ]
  },
  {
   "cell_type": "markdown",
   "id": "a1085809-c1ba-432c-b041-c272f00893dc",
   "metadata": {},
   "source": [
    "#### `eigvals`\n",
    "##### Function Description\n",
    "Compute the eigenvalues of a square matrix.\n",
    "\n",
    "##### Parameters\n",
    "* `a` : array_like\n",
    "Square matrix.\n",
    "\n",
    "##### Returns\n",
    "* `w` : ndarray\n",
    "Eigenvalues.\n",
    "\n",
    "##### Examples\n",
    "```python\n",
    "import numpy as np\n",
    "a = np.array([[1, 2], [3, 4]])\n",
    "w = np.linalg.eigvals(a)\n",
    "```"
   ]
  },
  {
   "cell_type": "code",
   "execution_count": 6,
   "id": "80eb98b8-c080-422a-bcea-7ff3660a3580",
   "metadata": {},
   "outputs": [
    {
     "data": {
      "text/plain": [
       "array([-0.37228132,  5.37228132])"
      ]
     },
     "execution_count": 6,
     "metadata": {},
     "output_type": "execute_result"
    }
   ],
   "source": [
    "# Interactive Example\n",
    "import numpy as np\n",
    "a = np.array([[1, 2], [3, 4]])\n",
    "w = np.linalg.eigvals(a)\n",
    "w"
   ]
  },
  {
   "cell_type": "markdown",
   "id": "2c7eb565-01b0-43b7-851e-9bd246e9e088",
   "metadata": {},
   "source": [
    "#### `eigvecs`\n",
    "##### Function Description\n",
    "Compute the right eigenvectors of a square matrix.\n",
    "\n",
    "##### Parameters\n",
    "* `a` : array_like\n",
    "Square matrix.\n",
    "\n",
    "##### Returns\n",
    "* `v` : ndarray\n",
    "Right eigenvectors.\n",
    "\n",
    "##### Examples\n",
    "```python\n",
    "import numpy as np\n",
    "a = np.array([[1, 2], [3, 4]])\n",
    "v = np.linalg.eigvecs(a)\n",
    "```"
   ]
  },
  {
   "cell_type": "code",
   "execution_count": 16,
   "id": "d150ac71-a4bf-417f-be77-b70df850ef61",
   "metadata": {},
   "outputs": [
    {
     "data": {
      "text/plain": [
       "array([[-0.82456484, -0.41597356],\n",
       "       [ 0.56576746, -0.90937671]])"
      ]
     },
     "execution_count": 16,
     "metadata": {},
     "output_type": "execute_result"
    }
   ],
   "source": [
    "# Interactive Example\n",
    "import numpy as np\n",
    "a = np.array([[1, 2], [3, 4]])\n",
    "_, v = np.linalg.eig(a)\n",
    "v"
   ]
  },
  {
   "cell_type": "markdown",
   "id": "345a9dcb-6013-41e9-8f4a-d745e3527597",
   "metadata": {},
   "source": [
    "#### `solve`\n",
    "##### Function Description\n",
    "Solve a linear matrix equation, or system of linear scalar equations.\n",
    "\n",
    "##### Parameters\n",
    "* `a` : array_like\n",
    "Coefficient matrix.\n",
    "* `b` : array_like\n",
    "Ordinate or “dependent variable” values.\n",
    "\n",
    "##### Returns\n",
    "* `x` : ndarray\n",
    "Solution to the system.\n",
    "\n",
    "##### Examples\n",
    "```python\n",
    "import numpy as np\n",
    "a = np.array([[1, 2], [3, 4]])\n",
    "b = np.array([5, 6])\n",
    "x = np.linalg.solve(a, b)\n",
    "```"
   ]
  },
  {
   "cell_type": "code",
   "execution_count": 7,
   "id": "2b8a2c0b-a728-4d51-81f2-f7b9a4666d5a",
   "metadata": {},
   "outputs": [
    {
     "data": {
      "text/plain": [
       "array([-4. ,  4.5])"
      ]
     },
     "execution_count": 7,
     "metadata": {},
     "output_type": "execute_result"
    }
   ],
   "source": [
    "# Interactive Example\n",
    "import numpy as np\n",
    "a = np.array([[1, 2], [3, 4]])\n",
    "b = np.array([5, 6])\n",
    "x = np.linalg.solve(a, b)\n",
    "x"
   ]
  },
  {
   "cell_type": "markdown",
   "id": "050d10aa-36c6-449e-ab1b-176c9f98402e",
   "metadata": {},
   "source": [
    "#### `lstsq`\n",
    "##### Function Description\n",
    "Return the least-squares solution to a linear matrix equation.\n",
    "\n",
    "##### Parameters\n",
    "* `a` : array_like\n",
    "Coefficient matrix.\n",
    "* `b` : array_like\n",
    "Ordinate or “dependent variable” values.\n",
    "* `rcond` : float, optional\n",
    "Cut-off ratio for small singular values.\n",
    "\n",
    "##### Returns\n",
    "* `x` : ndarray\n",
    "Least-squares solution.\n",
    "* `residuals` : ndarray\n",
    "Sums of residuals.\n",
    "* `rank` : int\n",
    "Effective rank of `a`.\n",
    "* `s` : ndarray\n",
    "Singular values of `a`.\n",
    "\n",
    "##### Examples\n",
    "```python\n",
    "import numpy as np\n",
    "a = np.array([[1, 2], [3, 4]])\n",
    "b = np.array([5, 6])\n",
    "x, res, rank, s = np.linalg.lstsq(a, b)"
   ]
  },
  {
   "cell_type": "code",
   "execution_count": 8,
   "id": "35613ab8-42b4-446d-9960-5c289d3cad9d",
   "metadata": {},
   "outputs": [
    {
     "data": {
      "text/plain": [
       "(array([-4. ,  4.5]),\n",
       " array([], dtype=float64),\n",
       " np.int32(2),\n",
       " array([5.4649857 , 0.36596619]))"
      ]
     },
     "execution_count": 8,
     "metadata": {},
     "output_type": "execute_result"
    }
   ],
   "source": [
    "# Interactive Example\n",
    "import numpy as np\n",
    "a = np.array([[1, 2], [3, 4]])\n",
    "b = np.array([5, 6])\n",
    "x, res, rank, s = np.linalg.lstsq(a, b, rcond=None)\n",
    "x, res, rank, s"
   ]
  },
  {
   "cell_type": "markdown",
   "id": "f3880ed2-62a5-4e87-bc12-9867f871023b",
   "metadata": {},
   "source": [
    "#### `qr`\n",
    "##### Function Description\n",
    "Compute the QR decomposition of a matrix.\n",
    "\n",
    "##### Parameters\n",
    "* `a` : array_like\n",
    "Matrix to be decomposed.\n",
    "\n",
    "##### Returns\n",
    "* `q` : ndarray\n",
    "Orthogonal matrix.\n",
    "* `r` : ndarray\n",
    "Upper triangular matrix.\n",
    "\n",
    "##### Examples\n",
    "```python\n",
    "import numpy as np\n",
    "a = np.array([[1, 2], [3, 4]])\n",
    "q, r = np.linalg.qr(a)"
   ]
  },
  {
   "cell_type": "code",
   "execution_count": 9,
   "id": "4a1a97ea-dbdc-43f6-aed7-9c9e1ee69b66",
   "metadata": {},
   "outputs": [
    {
     "data": {
      "text/plain": [
       "(array([[-0.31622777, -0.9486833 ],\n",
       "        [-0.9486833 ,  0.31622777]]),\n",
       " array([[-3.16227766, -4.42718872],\n",
       "        [ 0.        , -0.63245553]]))"
      ]
     },
     "execution_count": 9,
     "metadata": {},
     "output_type": "execute_result"
    }
   ],
   "source": [
    "# Interactive Example\n",
    "import numpy as np\n",
    "a = np.array([[1, 2], [3, 4]])\n",
    "q, r = np.linalg.qr(a)\n",
    "q, r"
   ]
  },
  {
   "cell_type": "markdown",
   "id": "74c4d7cf-a152-40c5-8bff-f35c1a6a08cd",
   "metadata": {},
   "source": [
    "#### `cholesky`\n",
    "##### Function Description\n",
    "Compute the Cholesky decomposition of a matrix.\n",
    "\n",
    "##### Parameters\n",
    "* `a` : array_like\n",
    " Matrix to be decomposed.\n",
    "\n",
    "##### Returns\n",
    "* `c` : ndarray\n",
    "Cholesky decomposition of `a`.\n",
    "\n",
    "##### Examples\n",
    "```python\n",
    "import numpy as np\n",
    "a = np.array([[1, 2], [2, 5]])\n",
    "c = np.linalg.cholesky(a)\n",
    "```"
   ]
  },
  {
   "cell_type": "code",
   "execution_count": 10,
   "id": "f4d6bedd-4b98-45a6-9f10-7c4088c2159e",
   "metadata": {},
   "outputs": [
    {
     "data": {
      "text/plain": [
       "array([[1., 0.],\n",
       "       [2., 1.]])"
      ]
     },
     "execution_count": 10,
     "metadata": {},
     "output_type": "execute_result"
    }
   ],
   "source": [
    "# Interactive Example\n",
    "a = np.array([[1, 2], [2, 5]])\n",
    "c = np.linalg.cholesky(a)\n",
    "c"
   ]
  },
  {
   "cell_type": "markdown",
   "id": "4f9ec3e8-f7c3-4a38-8711-6e9af71d3d9f",
   "metadata": {},
   "source": [
    "#### `cond`\n",
    "##### Function Description\n",
    "Compute the condition number of a matrix.\n",
    "\n",
    "##### Parameters\n",
    "* `x` : array_like\n",
    "Input matrix.\n",
    "\n",
    "##### Returns\n",
    "* `c` : float\n",
    "Condition number of the input matrix.\n",
    "\n",
    "##### Examples\n",
    "```python\n",
    "import numpy as np\n",
    "x = np.array([[1, 2], [3, 4]])\n",
    "c = np.linalg.cond(x)\n",
    "```"
   ]
  },
  {
   "cell_type": "code",
   "execution_count": 12,
   "id": "87a13ca2-407c-4f48-b7d4-cd2988d163a3",
   "metadata": {},
   "outputs": [
    {
     "data": {
      "text/plain": [
       "np.float64(14.933034373659268)"
      ]
     },
     "execution_count": 12,
     "metadata": {},
     "output_type": "execute_result"
    }
   ],
   "source": [
    "# Interactive Example\n",
    "import numpy as np\n",
    "x = np.array([[1, 2], [3, 4]])\n",
    "c = np.linalg.cond(x)\n",
    "c"
   ]
  },
  {
   "cell_type": "markdown",
   "id": "3c95fe47-cd84-4263-aba4-7647cabe95e9",
   "metadata": {},
   "source": [
    "#### `eigh`\n",
    "##### Function Description\n",
    "Compute the eigenvalues and eigenvectors of a Hermitian matrix.\n",
    "\n",
    "##### Parameters\n",
    "* `a` : array_like\n",
    "Hermitian matrix.\n",
    "\n",
    "##### Returns\n",
    "* `w` : ndarray\n",
    "Eigenvalues.\n",
    "* `v` : ndarray\n",
    "Eigenvectors.\n",
    "\n",
    "##### Examples\n",
    "```python\n",
    "import numpy as np\n",
    "a = np.array([[1, 2], [2, 5]])\n",
    "w, v = np.linalg.eigh(a)\n",
    "```"
   ]
  },
  {
   "cell_type": "code",
   "execution_count": 13,
   "id": "4cac22b7-7279-4f11-b398-83c721ad20e5",
   "metadata": {},
   "outputs": [
    {
     "data": {
      "text/plain": [
       "(array([0.17157288, 5.82842712]),\n",
       " array([[-0.92387953,  0.38268343],\n",
       "        [ 0.38268343,  0.92387953]]))"
      ]
     },
     "execution_count": 13,
     "metadata": {},
     "output_type": "execute_result"
    }
   ],
   "source": [
    "# Interactive Example\n",
    "import numpy as np\n",
    "a = np.array([[1, 2], [2, 5]])\n",
    "w, v = np.linalg.eigh(a)\n",
    "w, v"
   ]
  },
  {
   "cell_type": "markdown",
   "id": "1ab84de0-c3c9-4273-88ce-0bf777508ec8",
   "metadata": {},
   "source": [
    "#### `eigvalsh`\n",
    "##### Function Description\n",
    "Compute the eigenvalues of a Hermitian matrix.\n",
    "\n",
    "##### Parameters\n",
    "* `a` : array_like\n",
    "Hermitian matrix.\n",
    "\n",
    "##### Returns\n",
    "* `w` : ndarray\n",
    "Eigenvalues.\n",
    "\n",
    "##### Examples\n",
    "```python\n",
    "import numpy as np\n",
    "a = np.array([[1, 2], [2, 5]])\n",
    "w = np.linalg.eigvalsh(a)"
   ]
  },
  {
   "cell_type": "code",
   "execution_count": 14,
   "id": "99ba4a7a-d654-4068-b00b-aed719e5a10a",
   "metadata": {},
   "outputs": [
    {
     "data": {
      "text/plain": [
       "array([0.17157288, 5.82842712])"
      ]
     },
     "execution_count": 14,
     "metadata": {},
     "output_type": "execute_result"
    }
   ],
   "source": [
    "# Interactive Example\n",
    "import numpy as np\n",
    "a = np.array([[1, 2], [2, 5]])\n",
    "w = np.linalg.eigvalsh(a)\n",
    "w"
   ]
  },
  {
   "cell_type": "markdown",
   "id": "49bda9eb-1f1a-4b8b-93a8-5bef689e6d6e",
   "metadata": {},
   "source": [
    "#### `multi_dot`\n",
    "##### Function Description\n",
    "Compute the dot product of multiple arrays.\n",
    "\n",
    "##### Parameters\n",
    "* `arrays` : sequence of arrays\n",
    "Arrays to be dotted.\n",
    "\n",
    "##### Returns\n",
    "* `result` : ndarray\n",
    "Dot product of the input arrays.\n",
    "\n",
    "##### Examples\n",
    "```python\n",
    "import numpy as np\n",
    "a = np.array([[1, 2], [3, 4]])\n",
    "b = np.array([[5, 6], [7, 8]])\n",
    "c = np.array([[9, 10], [11, 12]])\n",
    "result = np.linalg.multi_dot([a, b, c])\n",
    "```"
   ]
  },
  {
   "cell_type": "code",
   "execution_count": 17,
   "id": "b5078c4a-cabb-4492-b73c-cef8188184cc",
   "metadata": {},
   "outputs": [
    {
     "data": {
      "text/plain": [
       "array([[ 413,  454],\n",
       "       [ 937, 1030]])"
      ]
     },
     "execution_count": 17,
     "metadata": {},
     "output_type": "execute_result"
    }
   ],
   "source": [
    "# Interactive Example\n",
    "import numpy as np\n",
    "a = np.array([[1, 2], [3, 4]])\n",
    "b = np.array([[5, 6], [7, 8]])\n",
    "c = np.array([[9, 10], [11, 12]])\n",
    "result = np.linalg.multi_dot([a, b, c])\n",
    "result"
   ]
  },
  {
   "cell_type": "markdown",
   "id": "dafb5563-31e9-4b8f-b452-4ab6aabcf2a7",
   "metadata": {},
   "source": [
    "#### `norm`\n",
    "##### Function Description\n",
    "Compute the norm of a matrix or vector.\n",
    "\n",
    "##### Parameters\n",
    "* `x` : array_like\n",
    "Input matrix or vector.\n",
    "* `ord` : {non-zero int, inf, -inf, ‘fro’, ‘nuc’}\n",
    "Norm type.\n",
    "\n",
    "##### Returns\n",
    "* `n` : float\n",
    "Norm of the input matrix or vector.\n",
    "\n",
    "##### Examples\n",
    "```python\n",
    "import numpy as np\n",
    "x = np.array([[1, 2], [3, 4]])\n",
    "n = np.linalg.norm(x)\n",
    "```"
   ]
  },
  {
   "cell_type": "code",
   "execution_count": 18,
   "id": "43637800-1c7a-4246-bc60-4253f5d814a2",
   "metadata": {},
   "outputs": [
    {
     "data": {
      "text/plain": [
       "np.float64(5.477225575051661)"
      ]
     },
     "execution_count": 18,
     "metadata": {},
     "output_type": "execute_result"
    }
   ],
   "source": [
    "# Interactive Example\n",
    "import numpy as np\n",
    "x = np.array([[1, 2], [3, 4]])\n",
    "n = np.linalg.norm(x)\n",
    "n"
   ]
  },
  {
   "cell_type": "markdown",
   "id": "61fa8c79-a07a-4e3a-b138-890e218f4ba5",
   "metadata": {},
   "source": [
    "#### `slogdet`\n",
    "##### Function Description\n",
    "Compute the sign and logarithm of the determinant of a matrix.\n",
    "\n",
    "##### Parameters\n",
    "* `a` : array_like\n",
    "Input matrix.\n",
    "\n",
    "##### Returns\n",
    "* `sign` : float\n",
    "Sign of the determinant.\n",
    "* `logdet` : float\n",
    "Logarithm of the determinant.\n",
    "\n",
    "##### Examples\n",
    "```python\n",
    "import numpy as np\n",
    "a = np.array([[1, 2], [3, 4]])\n",
    "sign, logdet = np.linalg.slogdet(a)\n",
    "```"
   ]
  },
  {
   "cell_type": "code",
   "execution_count": 19,
   "id": "51a395d3-092b-42fb-9fc4-0e2f77bba831",
   "metadata": {},
   "outputs": [
    {
     "data": {
      "text/plain": [
       "(np.float64(-1.0), np.float64(0.6931471805599455))"
      ]
     },
     "execution_count": 19,
     "metadata": {},
     "output_type": "execute_result"
    }
   ],
   "source": [
    "# Interactive Example\n",
    "import numpy as np\n",
    "a = np.array([[1, 2], [3, 4]])\n",
    "sign, logdet = np.linalg.slogdet(a)\n",
    "sign, logdet"
   ]
  },
  {
   "cell_type": "markdown",
   "id": "685b246d-e5b7-4e26-9b44-721b47f6d163",
   "metadata": {},
   "source": [
    "#### `svd`\n",
    "##### Function Description\n",
    "Compute the singular value decomposition of a matrix.\n",
    "\n",
    "##### Parameters\n",
    "* `a` : array_like\n",
    "Input matrix.\n",
    "\n",
    "##### Returns\n",
    "* `u` : ndarray\n",
    "Left singular vectors.\n",
    "* `s` : ndarray\n",
    "Singular values.\n",
    "* `vh` : ndarray\n",
    "Right singular vectors.\n",
    "\n",
    "##### Examples\n",
    "```python\n",
    "import numpy as np\n",
    "a = np.array([[1, 2], [3, 4]])\n",
    "u, s, vh = np.linalg.svd(a)\n",
    "```"
   ]
  },
  {
   "cell_type": "code",
   "execution_count": 20,
   "id": "87828e32-42ab-46d2-b18c-869dbe637d7b",
   "metadata": {},
   "outputs": [
    {
     "data": {
      "text/plain": [
       "(array([[-0.40455358, -0.9145143 ],\n",
       "        [-0.9145143 ,  0.40455358]]),\n",
       " array([5.4649857 , 0.36596619]),\n",
       " array([[-0.57604844, -0.81741556],\n",
       "        [ 0.81741556, -0.57604844]]))"
      ]
     },
     "execution_count": 20,
     "metadata": {},
     "output_type": "execute_result"
    }
   ],
   "source": [
    "# Interactive Example\n",
    "import numpy as np\n",
    "a = np.array([[1, 2], [3, 4]])\n",
    "u, s, vh = np.linalg.svd(a)\n",
    "u, s, vh"
   ]
  },
  {
   "cell_type": "markdown",
   "id": "b1897e30-6fbc-442a-9b57-7b16effb1721",
   "metadata": {},
   "source": [
    "#### `tensorsolve`\n",
    "\n",
    "##### Function Description\n",
    "Solve a tensor equation.\n",
    "\n",
    "##### Parameters\n",
    "* `a` : array_like\n",
    "Coefficient tensor.\n",
    "* `b` : array_like\n",
    "Right-hand side tensor.\n",
    "\n",
    "##### Returns\n",
    "* `x` : ndarray\n",
    "Solution to the tensor equation.\n",
    "\n",
    "##### Examples\n",
    "```python\n",
    "import numpy as np\n",
    "a = np.array([[1, 2], [3, 4]])\n",
    "b = np.array([5, 6])\n",
    "x = np.linalg.tensorsolve(a, b)\n",
    "```"
   ]
  },
  {
   "cell_type": "code",
   "execution_count": 22,
   "id": "2f2b4ff4-4528-4982-9d00-5b939853a752",
   "metadata": {},
   "outputs": [
    {
     "data": {
      "text/plain": [
       "array([-4. ,  4.5])"
      ]
     },
     "execution_count": 22,
     "metadata": {},
     "output_type": "execute_result"
    }
   ],
   "source": [
    "# Interactive Example\n",
    "import numpy as np\n",
    "a = np.array([[1, 2], [3, 4]])\n",
    "b = np.array([5, 6])\n",
    "x = np.linalg.tensorsolve(a, b)\n",
    "x"
   ]
  }
 ],
 "metadata": {
  "kernelspec": {
   "display_name": "numpy-dev",
   "language": "python",
   "name": "numpy-dev"
  },
  "language_info": {
   "codemirror_mode": {
    "name": "ipython",
    "version": 3
   },
   "file_extension": ".py",
   "mimetype": "text/x-python",
   "name": "python",
   "nbconvert_exporter": "python",
   "pygments_lexer": "ipython3",
   "version": "3.11.9"
  }
 },
 "nbformat": 4,
 "nbformat_minor": 5
}

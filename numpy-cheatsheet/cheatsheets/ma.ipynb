{
 "cells": [
  {
   "cell_type": "markdown",
   "id": "91e6bbfd-5d97-4bf7-9439-ac9e61f9dc52",
   "metadata": {},
   "source": [
    "### Cheatsheet for Masked Array Functions"
   ]
  },
  {
   "cell_type": "markdown",
   "id": "34d40930-9b43-4154-9055-33256f1e3b05",
   "metadata": {},
   "source": [
    "#### `masked_array`\n",
    "##### Function Description\n",
    "Create a masked array.\n",
    "\n",
    "##### Parameters\n",
    "* `data` : array_like\n",
    "Input data.\n",
    "* `mask` : array_like, optional\n",
    "Mask array.\n",
    "* `fill_value` : scalar, optional\n",
    "Fill value.\n",
    "\n",
    "##### Returns\n",
    "* `masked_array` : MaskedArray\n",
    "Masked array.\n",
    "\n",
    "##### Examples\n",
    "```python\n",
    "import numpy as np\n",
    "\n",
    "data = np.array([1, 2, 3, 4, 5])\n",
    "mask = np.array([True, False, True, False, True])\n",
    "masked_array = np.ma.masked_array(data, mask)\n",
    "```"
   ]
  },
  {
   "cell_type": "code",
   "execution_count": 2,
   "id": "1d767b39-6f52-41eb-a05b-bf17953ef8db",
   "metadata": {},
   "outputs": [
    {
     "data": {
      "text/plain": [
       "masked_array(data=[--, 2, --, 4, --],\n",
       "             mask=[ True, False,  True, False,  True],\n",
       "       fill_value=999999)"
      ]
     },
     "execution_count": 2,
     "metadata": {},
     "output_type": "execute_result"
    }
   ],
   "source": [
    "# Interactive Example\n",
    "import numpy as np\n",
    "data = np.array([1, 2, 3, 4, 5])\n",
    "mask = np.array([True, False, True, False, True])\n",
    "masked_array = np.ma.masked_array(data, mask)\n",
    "masked_array"
   ]
  },
  {
   "cell_type": "markdown",
   "id": "749fb822-0196-47fd-8706-070c62f966cc",
   "metadata": {},
   "source": [
    "#### `masked_where`\n",
    "##### Function Description\n",
    "Create a masked array where a condition is True.\n",
    "\n",
    "##### Parameters\n",
    "* `condition` : array_like\n",
    "Condition array.\n",
    "* `data` : array_like, optional\n",
    "Input data.\n",
    "\n",
    "##### Returns\n",
    "* `masked_array` : MaskedArray\n",
    "Masked array.\n",
    "\n",
    "##### Examples\n",
    "```python\n",
    "import numpy as np\n",
    "\n",
    "data = np.array([1, 2, 3, 4, 5])\n",
    "condition = np.array([True, False, True, False, True])\n",
    "masked_array = np.ma.masked_where(condition, data)\n",
    "```"
   ]
  },
  {
   "cell_type": "code",
   "execution_count": 3,
   "id": "2d15dbb9-9cb0-42fa-912c-87e6e73cfca2",
   "metadata": {},
   "outputs": [
    {
     "data": {
      "text/plain": [
       "masked_array(data=[--, 2, --, 4, --],\n",
       "             mask=[ True, False,  True, False,  True],\n",
       "       fill_value=999999)"
      ]
     },
     "execution_count": 3,
     "metadata": {},
     "output_type": "execute_result"
    }
   ],
   "source": [
    "# Interactive Example\n",
    "import numpy as np\n",
    "data = np.array([1, 2, 3, 4, 5])\n",
    "condition = np.array([True, False, True, False, True])\n",
    "masked_array = np.ma.masked_where(condition, data)\n",
    "masked_array"
   ]
  },
  {
   "cell_type": "markdown",
   "id": "de0bb972-4d26-4ec1-b5b2-f8a2033ebb5c",
   "metadata": {},
   "source": [
    "#### `masked_equals`\n",
    "##### Function Description\n",
    "Create a masked array where values are equal to a specified value.\n",
    "\n",
    "##### Parameters\n",
    "* `data` : array_like\n",
    "Input data.\n",
    "* `value` : scalar\n",
    "Value to mask.\n",
    "\n",
    "##### Returns\n",
    "* `masked_array` : MaskedArray\n",
    "Masked array.\n",
    "\n",
    "##### Examples\n",
    "```python\n",
    "import numpy as np\n",
    "\n",
    "data = np.array([1, 2, 3, 4, 5])\n",
    "value = 3\n",
    "masked_array = np.ma.masked_equals(data, value)\n",
    "```"
   ]
  },
  {
   "cell_type": "code",
   "execution_count": 4,
   "id": "54cdb100-b788-41ef-a038-07b0726f9709",
   "metadata": {},
   "outputs": [
    {
     "data": {
      "text/plain": [
       "masked_array(data=[1, 2, --, 4, 5],\n",
       "             mask=[False, False,  True, False, False],\n",
       "       fill_value=3)"
      ]
     },
     "execution_count": 4,
     "metadata": {},
     "output_type": "execute_result"
    }
   ],
   "source": [
    "# Interactive Example\n",
    "import numpy as np\n",
    "data = np.array([1, 2, 3, 4, 5])\n",
    "value = 3\n",
    "masked_array = np.ma.masked_equal(data, value)\n",
    "masked_array\n"
   ]
  },
  {
   "cell_type": "markdown",
   "id": "16c56126-453e-4092-b7b6-ef1326b0ff09",
   "metadata": {},
   "source": [
    "#### `masked_not_equals`\n",
    "##### Function Description\n",
    "Create a masked array where values are not equal to a specified value.\n",
    "\n",
    "##### Parameters\n",
    "* `data` : array_like\n",
    "Input data.\n",
    "* `value` : scalar\n",
    "Value to mask.\n",
    "\n",
    "##### Returns\n",
    "* `masked_array` : MaskedArray\n",
    "Masked array.\n",
    "\n",
    "##### Examples\n",
    "```python\n",
    "import numpy as np\n",
    "\n",
    "data = np.array([1, 2, 3, 4, 5])\n",
    "value = 3\n",
    "masked_array = np.ma.masked_not_equals(data, value)\n",
    "```"
   ]
  },
  {
   "cell_type": "code",
   "execution_count": 5,
   "id": "74e54784-dc4c-489a-9ba1-1e16c07aea08",
   "metadata": {},
   "outputs": [
    {
     "data": {
      "text/plain": [
       "masked_array(data=[--, --, 3, --, --],\n",
       "             mask=[ True,  True, False,  True,  True],\n",
       "       fill_value=999999)"
      ]
     },
     "execution_count": 5,
     "metadata": {},
     "output_type": "execute_result"
    }
   ],
   "source": [
    "# Interactive Example\n",
    "import numpy as np\n",
    "data = np.array([1, 2, 3, 4, 5])\n",
    "value = 3\n",
    "masked_array = np.ma.masked_not_equal(data, value)\n",
    "masked_array"
   ]
  },
  {
   "cell_type": "markdown",
   "id": "5809c4e6-596a-4670-ba02-a8e36c7a63a5",
   "metadata": {},
   "source": [
    "#### `masked_inside`\n",
    "##### Function Description\n",
    "Create a masked array where values are inside a specified range.\n",
    "\n",
    "##### Parameters\n",
    "* `data` : array_like\n",
    "Input data.\n",
    "* `lower` : scalar\n",
    "Lower bound of the range.\n",
    "* `upper` : scalar\n",
    "Upper bound of the range.\n",
    "\n",
    "##### Returns\n",
    "* `masked_array` : MaskedArray\n",
    "Masked array.\n",
    "\n",
    "##### Examples\n",
    "```python\n",
    "import numpy as np\n",
    "\n",
    "data = np.array([1, 2, 3, 4, 5])\n",
    "lower = 2\n",
    "upper = 4\n",
    "masked_array = np.ma.masked_inside(data, lower, upper)\n",
    "```"
   ]
  },
  {
   "cell_type": "code",
   "execution_count": 6,
   "id": "e378c690-5b3e-40ca-8722-74649576a53e",
   "metadata": {},
   "outputs": [
    {
     "data": {
      "text/plain": [
       "masked_array(data=[1, --, --, --, 5],\n",
       "             mask=[False,  True,  True,  True, False],\n",
       "       fill_value=999999)"
      ]
     },
     "execution_count": 6,
     "metadata": {},
     "output_type": "execute_result"
    }
   ],
   "source": [
    "# Interactive Example\n",
    "import numpy as np\n",
    "data = np.array([1, 2, 3, 4, 5])\n",
    "lower = 2\n",
    "upper = 4\n",
    "masked_array = np.ma.masked_inside(data, lower, upper)\n",
    "masked_array\n"
   ]
  },
  {
   "cell_type": "markdown",
   "id": "a1d44ffd-e70c-4b33-8fc4-8368b9998f31",
   "metadata": {},
   "source": [
    "#### `masked_outside`\n",
    "##### Function Description\n",
    "Create a masked array where values are outside a specified range.\n",
    "\n",
    "##### Parameters\n",
    "* `data` : array_like\n",
    "Input data.\n",
    "* `lower` : scalar\n",
    "Lower bound of the range.\n",
    "* `upper` : scalar\n",
    "Upper bound of the range.\n",
    "\n",
    "##### Returns\n",
    "* `masked_array` : MaskedArray\n",
    "Masked array.\n",
    "\n",
    "##### Examples\n",
    "```python\n",
    "import numpy as np\n",
    "\n",
    "data = np.array([1, 2, 3, 4, 5])\n",
    "lower = 2\n",
    "upper = 4\n",
    "masked_array = np.ma.masked_outside(data, lower, upper)\n",
    "```"
   ]
  },
  {
   "cell_type": "code",
   "execution_count": 7,
   "id": "1e326ba3-20b1-44e5-9b84-3ebc0d2ba044",
   "metadata": {},
   "outputs": [
    {
     "data": {
      "text/plain": [
       "masked_array(data=[--, 2, 3, 4, --],\n",
       "             mask=[ True, False, False, False,  True],\n",
       "       fill_value=999999)"
      ]
     },
     "execution_count": 7,
     "metadata": {},
     "output_type": "execute_result"
    }
   ],
   "source": [
    "# Interactive Example\n",
    "import numpy as np\n",
    "data = np.array([1, 2, 3, 4, 5])\n",
    "lower = 2\n",
    "upper = 4\n",
    "masked_array = np.ma.masked_outside(data, lower, upper)\n",
    "masked_array\n"
   ]
  },
  {
   "cell_type": "markdown",
   "id": "9b114ccf-aa41-49b1-8317-5fbcbf789697",
   "metadata": {},
   "source": [
    "#### `getmask`\n",
    "##### Function Description\n",
    "Return the mask of a masked array.\n",
    "\n",
    "##### Parameters\n",
    "* `arr` : MaskedArray\n",
    "Input masked array.\n",
    "\n",
    "##### Returns\n",
    "* `mask` : ndarray\n",
    "Mask of the input masked array.\n",
    "\n",
    "##### Examples\n",
    "```python\n",
    "import numpy as np\n",
    "\n",
    "arr = np.ma.array([1, 2, 3, 4, 5], mask=[True, False, True, False, True])\n",
    "mask = np.ma.getmask(arr)\n",
    "```"
   ]
  },
  {
   "cell_type": "code",
   "execution_count": 8,
   "id": "eadf0a2d-a1df-45c6-9394-545c84b8a873",
   "metadata": {},
   "outputs": [
    {
     "data": {
      "text/plain": [
       "array([ True, False,  True, False,  True])"
      ]
     },
     "execution_count": 8,
     "metadata": {},
     "output_type": "execute_result"
    }
   ],
   "source": [
    "# Interactive Example\n",
    "import numpy as np\n",
    "arr = np.ma.array([1, 2, 3, 4, 5], mask=[True, False, True, False, True])\n",
    "mask = np.ma.getmask(arr)\n",
    "mask"
   ]
  },
  {
   "cell_type": "markdown",
   "id": "6f28478a-b88d-46e6-962f-2d5639b35cd6",
   "metadata": {},
   "source": [
    "#### `getmaskarray`\n",
    "##### Function Description\n",
    "Return the mask of a masked array as a boolean array.\n",
    "\n",
    "##### Parameters\n",
    "* `arr` : MaskedArray\n",
    "Input masked array.\n",
    "\n",
    "##### Returns\n",
    "* `mask` : ndarray\n",
    "Mask of the input masked array as a boolean array.\n",
    "\n",
    "##### Examples\n",
    "```python\n",
    "import numpy as np\n",
    "\n",
    "arr = np.ma.array([1, 2, 3, 4, 5], mask=[True, False, True, False, True])\n",
    "mask = np.ma.getmaskarray(arr)\n",
    "```"
   ]
  },
  {
   "cell_type": "code",
   "execution_count": 9,
   "id": "be4b159f-1d0e-49df-8794-aecb21298682",
   "metadata": {},
   "outputs": [
    {
     "data": {
      "text/plain": [
       "array([ True, False,  True, False,  True])"
      ]
     },
     "execution_count": 9,
     "metadata": {},
     "output_type": "execute_result"
    }
   ],
   "source": [
    "# Interactive Example\n",
    "import numpy as np\n",
    "arr = np.ma.array([1, 2, 3, 4, 5], mask=[True, False, True, False, True])\n",
    "mask = np.ma.getmaskarray(arr)\n",
    "mask"
   ]
  },
  {
   "cell_type": "markdown",
   "id": "260f17b8-089e-4609-bbe4-ca7e004906e0",
   "metadata": {},
   "source": [
    "#### `getdata`\n",
    "##### Function Description\n",
    "Return the data of a masked array.\n",
    "\n",
    "##### Parameters\n",
    "* `arr` : MaskedArray\n",
    "Input masked array.\n",
    "\n",
    "##### Returns\n",
    "* `data` : ndarray\n",
    "Data of the input masked array.\n",
    "\n",
    "##### Examples\n",
    "```python\n",
    "import numpy as np\n",
    "\n",
    "arr = np.ma.array([1, 2, 3, 4, 5], mask=[True, False, True, False, True])\n",
    "data = np.ma.getdata(arr)\n",
    "```"
   ]
  },
  {
   "cell_type": "code",
   "execution_count": 11,
   "id": "29c8dbbc-ed54-4e0c-933c-cee2a0d7ac59",
   "metadata": {},
   "outputs": [
    {
     "data": {
      "text/plain": [
       "array([1, 2, 3, 4, 5])"
      ]
     },
     "execution_count": 11,
     "metadata": {},
     "output_type": "execute_result"
    }
   ],
   "source": [
    "# Interactive Example\n",
    "import numpy as np\n",
    "arr = np.ma.array([1, 2, 3, 4, 5], mask=[True, False, True, False, True])\n",
    "data = np.ma.getdata(arr)\n",
    "data"
   ]
  },
  {
   "cell_type": "markdown",
   "id": "69c0759a-f6ce-4f36-aa47-c7d2f5767e11",
   "metadata": {},
   "source": [
    "#### `compressed`\n",
    "##### Function Description\n",
    "Return a 1-D iterator over the non-masked elements of a masked array.\n",
    "\n",
    "##### Parameters\n",
    "* `arr` : MaskedArray\n",
    "Input masked array.\n",
    "\n",
    "##### Returns\n",
    "* `iterator` : iterator\n",
    "Iterator over the non-masked elements of the input masked array.\n",
    "\n",
    "##### Examples\n",
    "```python\n",
    "import numpy as np\n",
    "\n",
    "arr = np.ma.array([1, 2, 3, 4, 5], mask=[True, False, True, False, True])\n",
    "iterator = np.ma.compressed(arr)\n",
    "```"
   ]
  },
  {
   "cell_type": "code",
   "execution_count": 13,
   "id": "d0a79484-77da-4981-95c3-c2aabb69527a",
   "metadata": {},
   "outputs": [
    {
     "data": {
      "text/plain": [
       "[np.int64(2), np.int64(4)]"
      ]
     },
     "execution_count": 13,
     "metadata": {},
     "output_type": "execute_result"
    }
   ],
   "source": [
    "# Interactive Example\n",
    "import numpy as np\n",
    "arr = np.ma.array([1, 2, 3, 4, 5], mask=[True, False, True, False, True])\n",
    "iterator = np.ma.compressed(arr)\n",
    "list(iterator)\n"
   ]
  },
  {
   "cell_type": "markdown",
   "id": "20a6b69b-c7b6-407c-afff-494d31a769c3",
   "metadata": {},
   "source": [
    "#### `filled`\n",
    "##### Function Description\n",
    "Return a copy of the masked array with the masked elements replaced by a fill value.\n",
    "\n",
    "##### Parameters\n",
    "* `arr` : MaskedArray\n",
    "Input masked array.\n",
    "* `fill_value` : scalar, optional\n",
    "Fill value to use.\n",
    "\n",
    "##### Returns\n",
    "* `filled_array` : ndarray\n",
    "Copy of the input masked array with the masked elements replaced by a fill value.\n",
    "\n",
    "##### Examples\n",
    "```python\n",
    "import numpy as np\n",
    "\n",
    "arr = np.ma.array([1, 2, 3, 4, 5], mask=[True, False, True, False, True])\n",
    "filled_array = np.ma.filled(arr, fill_value=0)\n",
    "```"
   ]
  },
  {
   "cell_type": "code",
   "execution_count": 15,
   "id": "52598afb-b4ec-4392-9c50-5ad70172d914",
   "metadata": {},
   "outputs": [
    {
     "data": {
      "text/plain": [
       "array([0, 2, 0, 4, 0])"
      ]
     },
     "execution_count": 15,
     "metadata": {},
     "output_type": "execute_result"
    }
   ],
   "source": [
    "# Interactive Example\n",
    "import numpy as np\n",
    "arr = np.ma.array([1, 2, 3, 4, 5], mask=[True, False, True, False, True])\n",
    "filled_array = np.ma.filled(arr, fill_value=0)\n",
    "filled_array"
   ]
  }
 ],
 "metadata": {
  "kernelspec": {
   "display_name": "numpy-dev",
   "language": "python",
   "name": "numpy-dev"
  },
  "language_info": {
   "codemirror_mode": {
    "name": "ipython",
    "version": 3
   },
   "file_extension": ".py",
   "mimetype": "text/x-python",
   "name": "python",
   "nbconvert_exporter": "python",
   "pygments_lexer": "ipython3",
   "version": "3.11.9"
  }
 },
 "nbformat": 4,
 "nbformat_minor": 5
}

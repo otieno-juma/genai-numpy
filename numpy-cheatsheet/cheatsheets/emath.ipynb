{
 "cells": [
  {
   "cell_type": "markdown",
   "id": "8856f53b-7e25-4279-b8fe-7f26b37762be",
   "metadata": {},
   "source": [
    "**Cheatsheet for NumPy Emath Module**\n",
    "================================"
   ]
  },
  {
   "cell_type": "markdown",
   "id": "eafacb44-171a-4d46-b6ed-8c80635f64ab",
   "metadata": {},
   "source": [
    "### arccos\n",
    "#### Function Description\n",
    "Computes the trigonometric inverse cosine, element-wise.\n",
    "\n",
    "#### Parameters\n",
    "* x: array_like\n",
    "\t+ Input array.\n",
    "\n",
    "#### Returns\n",
    "* out: ndarray\n",
    "\t+ The inverse cosine of each element in `x`.\n",
    "\n",
    "#### Examples\n",
    "```python\n",
    "import numpy as np\n",
    "\n",
    "x = np.array([-1, 0, 1])\n",
    "print(np.arccos(x))  # Output: [ 3.14159265  1.57079633  0.        ]\n",
    "```"
   ]
  },
  {
   "cell_type": "code",
   "execution_count": 3,
   "id": "0dd9d70e-4aac-4759-bd87-a0fd0b923c1c",
   "metadata": {},
   "outputs": [
    {
     "data": {
      "text/plain": [
       "array([3.14159265, 1.57079633, 0.        ])"
      ]
     },
     "execution_count": 3,
     "metadata": {},
     "output_type": "execute_result"
    }
   ],
   "source": [
    "# Interactive Example\n",
    "import numpy as np\n",
    "x = np.array([-1, 0, 1])\n",
    "result = np.arccos(x)\n",
    "result"
   ]
  },
  {
   "cell_type": "markdown",
   "id": "ac9e94e6-7408-467b-99fe-9d89ce0ea6ed",
   "metadata": {},
   "source": [
    "### arccosh\n",
    "#### Function Description\n",
    "Computes the inverse hyperbolic cosine, element-wise.\n",
    "\n",
    "#### Parameters\n",
    "* x: array_like\n",
    "\t+ Input array.\n",
    "\n",
    "#### Returns\n",
    "* out: ndarray\n",
    "\t+ The inverse hyperbolic cosine of each element in `x`.\n",
    "\n",
    "#### Examples\n",
    "```python\n",
    "import numpy as np\n",
    "x = np.array([1, 2, 3])\n",
    "print(np.arccosh(x))  # Output: [ 0.         1.3169579  1.76274717]\n",
    "```"
   ]
  },
  {
   "cell_type": "code",
   "execution_count": 6,
   "id": "e1854d7a-707a-413a-b55f-67fac95fc09f",
   "metadata": {},
   "outputs": [
    {
     "data": {
      "text/plain": [
       "array([0.        , 1.3169579 , 1.76274717])"
      ]
     },
     "execution_count": 6,
     "metadata": {},
     "output_type": "execute_result"
    }
   ],
   "source": [
    "# Interactive Example\n",
    "import numpy as np\n",
    "x = np.array([1, 2, 3])\n",
    "result = np.arccosh(x)\n",
    "result"
   ]
  },
  {
   "cell_type": "markdown",
   "id": "06fc162c-70cf-41ea-912b-a70404e53f70",
   "metadata": {},
   "source": [
    "### arcsin\n",
    "#### Function Description\n",
    "Computes the trigonometric inverse sine, element-wise.\n",
    "\n",
    "#### Parameters\n",
    "* x: array_like\n",
    "\t+ Input array.\n",
    "\n",
    "#### Returns\n",
    "* out: ndarray\n",
    "\t+ The inverse sine of each element in `x`.\n",
    "\n",
    "#### Examples\n",
    "```python\n",
    "import numpy as np\n",
    "x = np.array([-1, 0, 1])\n",
    "print(np.arcsin(x))  # Output: [-1.57079633  0.         1.57079633]\n",
    "```"
   ]
  },
  {
   "cell_type": "code",
   "execution_count": 7,
   "id": "181538d1-dda8-4d14-a704-4ee886a8a8b7",
   "metadata": {},
   "outputs": [
    {
     "data": {
      "text/plain": [
       "array([-1.57079633,  0.        ,  1.57079633])"
      ]
     },
     "execution_count": 7,
     "metadata": {},
     "output_type": "execute_result"
    }
   ],
   "source": [
    "# Interactive Example\n",
    "import numpy as np\n",
    "x = np.array([-1, 0, 1])\n",
    "result = np.arcsin(x)\n",
    "result"
   ]
  },
  {
   "cell_type": "markdown",
   "id": "3cd3e023-3b58-43e4-bccc-51e9ea1a6e73",
   "metadata": {},
   "source": [
    "### arcsinh\n",
    "#### Function Description\n",
    "Computes the inverse hyperbolic sine, element-wise.\n",
    "\n",
    "#### Parameters\n",
    "* x: array_like\n",
    "\t+ Input array.\n",
    "\n",
    "#### Returns\n",
    "* out: ndarray\n",
    "\t+ The inverse hyperbolic sine of each element in `x`.\n",
    "\n",
    "#### Examples\n",
    "```python\n",
    "import numpy as np\n",
    "x = np.array([-1, 0, 1])\n",
    "print(np.arcsinh(x))  # Output: [-0.88137358  0.         0.88137358]\n",
    "```"
   ]
  },
  {
   "cell_type": "code",
   "execution_count": 13,
   "id": "a3bc09e8-de3f-4242-a26e-4ef2ebf7a35b",
   "metadata": {},
   "outputs": [
    {
     "data": {
      "text/plain": [
       "array([-0.88137359,  0.        ,  0.88137359])"
      ]
     },
     "execution_count": 13,
     "metadata": {},
     "output_type": "execute_result"
    }
   ],
   "source": [
    "# Interactive Example\n",
    "import numpy as np\n",
    "x = np.array([-1, 0, 1])\n",
    "result = np.arcsinh(x)\n",
    "result"
   ]
  },
  {
   "cell_type": "markdown",
   "id": "01fa3131-6dec-4a1b-8451-87cd7e9a74bc",
   "metadata": {},
   "source": [
    "### arctan\n",
    "#### Function Description\n",
    "Computes the trigonometric inverse tangent, element-wise.\n",
    "\n",
    "#### Parameters\n",
    "* x: array_like\n",
    "\t+ Input array.\n",
    "\n",
    "#### Returns\n",
    "* out: ndarray\n",
    "\t+ The inverse tangent of each element in `x`.\n",
    "\n",
    "#### Examples\n",
    "```python\n",
    "import numpy as np\n",
    "x = np.array([-1, 0, 1])\n",
    "print(np.arctan(x))  # Output: [-0.78539816  0.         0.78539816]\n",
    "```"
   ]
  },
  {
   "cell_type": "code",
   "execution_count": 12,
   "id": "d2318f90-ebac-4f9f-98cd-ccf14d99bd50",
   "metadata": {},
   "outputs": [
    {
     "data": {
      "text/plain": [
       "array([-0.78539816,  0.        ,  0.78539816])"
      ]
     },
     "execution_count": 12,
     "metadata": {},
     "output_type": "execute_result"
    }
   ],
   "source": [
    "# Interactive Example\n",
    "import numpy as np\n",
    "x = np.array([-1, 0, 1])\n",
    "result = np.arctan(x)\n",
    "result"
   ]
  },
  {
   "cell_type": "markdown",
   "id": "14029a4b-13a9-4820-b108-a01e97e5e35d",
   "metadata": {},
   "source": [
    "### arctanh\n",
    "#### Function Description\n",
    "Computes the inverse hyperbolic tangent, element-wise.\n",
    "\n",
    "#### Parameters\n",
    "* x: array_like\n",
    "\t+ Input array.\n",
    "\n",
    "#### Returns\n",
    "* out: ndarray\n",
    "\t+ The inverse hyperbolic tangent of each element in `x`.\n",
    "\n",
    "#### Examples\n",
    "```python\n",
    "import numpy as np\n",
    "x = np.array([-0.5, 0, 0.5])\n",
    "print(np.arctanh(x))  # Output: [-0.54930614  0.         0.54930614]\n",
    "```"
   ]
  },
  {
   "cell_type": "code",
   "execution_count": 14,
   "id": "acaf4a59-be6c-414e-9a67-f2be3995a701",
   "metadata": {},
   "outputs": [
    {
     "data": {
      "text/plain": [
       "array([-0.54930614,  0.        ,  0.54930614])"
      ]
     },
     "execution_count": 14,
     "metadata": {},
     "output_type": "execute_result"
    }
   ],
   "source": [
    "# Interactive Example\n",
    "import numpy as np\n",
    "x = np.array([-0.5, 0, 0.5])\n",
    "result = np.arctanh(x)\n",
    "result"
   ]
  },
  {
   "cell_type": "markdown",
   "id": "35c6ded3-2dac-4cb6-a1fe-97f99e308f21",
   "metadata": {},
   "source": [
    "### cos\n",
    "#### Function Description\n",
    "Computes the trigonometric cosine, element-wise.\n",
    "\n",
    "#### Parameters\n",
    "* x: array_like\n",
    "\t+ Input array.\n",
    "\n",
    "#### Returns\n",
    "* out: ndarray\n",
    "\t+ The cosine of each element in `x`.\n",
    "\n",
    "#### Examples\n",
    "```python\n",
    "import numpy as np\n",
    "x = np.array([0, np.pi/2, np.pi])\n",
    "print(np.cos(x))  # Output: [ 1.         6.12323399e-17 -1.        ]\n",
    "```"
   ]
  },
  {
   "cell_type": "code",
   "execution_count": 15,
   "id": "f80e941b-9a52-47a3-a245-60879247082a",
   "metadata": {},
   "outputs": [
    {
     "data": {
      "text/plain": [
       "array([ 1.000000e+00,  6.123234e-17, -1.000000e+00])"
      ]
     },
     "execution_count": 15,
     "metadata": {},
     "output_type": "execute_result"
    }
   ],
   "source": [
    "# Interactive Example\n",
    "import numpy as np\n",
    "x = np.array([0, np.pi/2, np.pi])\n",
    "result = np.cos(x)\n",
    "result"
   ]
  },
  {
   "cell_type": "markdown",
   "id": "8eb1be6e-bd8d-4265-baf4-91caae67c13c",
   "metadata": {},
   "source": [
    "### cosh\n",
    "#### Function Description\n",
    "Computes the hyperbolic cosine, element-wise.\n",
    "\n",
    "#### Parameters\n",
    "* x: array_like\n",
    "\t+ Input array.\n",
    "\n",
    "#### Returns\n",
    "* out: ndarray\n",
    "\t+ The hyperbolic cosine of each element in `x`.\n",
    "\n",
    "#### Examples\n",
    "```python\n",
    "import numpy as np\n",
    "x = np.array([0, 1, 2])\n",
    "print(np.cosh(x))  # Output: [ 1.         1.54308063  3.76219569]\n",
    "```"
   ]
  },
  {
   "cell_type": "code",
   "execution_count": 16,
   "id": "09ddfca1-528f-4d75-96cf-97bf6d568c8d",
   "metadata": {},
   "outputs": [
    {
     "data": {
      "text/plain": [
       "array([1.        , 1.54308063, 3.76219569])"
      ]
     },
     "execution_count": 16,
     "metadata": {},
     "output_type": "execute_result"
    }
   ],
   "source": [
    "# Interactive Example\n",
    "import numpy as np\n",
    "x = np.array([0, 1, 2])\n",
    "result = np.cosh(x)\n",
    "result"
   ]
  },
  {
   "cell_type": "markdown",
   "id": "0ab5f61f-b72e-4ef5-95ef-36a0553e7ef0",
   "metadata": {},
   "source": [
    "### exp\n",
    "#### Function Description\n",
    "Computes the exponential, element-wise.\n",
    "\n",
    "#### Parameters\n",
    "* x: array_like\n",
    "\t+ Input array.\n",
    "\n",
    "#### Returns\n",
    "* out: ndarray\n",
    "\t+ The exponential of each element in `x`.\n",
    "\n",
    "#### Examples\n",
    "```python\n",
    "import numpy as np\n",
    "x = np.array([0, 1, 2])\n",
    "print(np.exp(x))  # Output: [ 1.         2.71828183  7.3890561 ]\n",
    "```"
   ]
  },
  {
   "cell_type": "code",
   "execution_count": 17,
   "id": "b85466c7-9829-49b2-8219-85ec05832031",
   "metadata": {},
   "outputs": [
    {
     "data": {
      "text/plain": [
       "array([1.        , 2.71828183, 7.3890561 ])"
      ]
     },
     "execution_count": 17,
     "metadata": {},
     "output_type": "execute_result"
    }
   ],
   "source": [
    "# Interactive Example\n",
    "import numpy as np\n",
    "x = np.array([0, 1, 2])\n",
    "result = np.exp(x)\n",
    "result"
   ]
  },
  {
   "cell_type": "markdown",
   "id": "6915fba4-6658-45c8-89dc-26a5a60a0f2f",
   "metadata": {},
   "source": [
    "### log\n",
    "#### Function Description\n",
    "Compute the natural logarithm, element-wise.\n",
    "\n",
    "#### Parameters\n",
    "* `x` : array_like - Input values.\n",
    "\n",
    "#### Returns\n",
    "* `out` : ndarray - The natural logarithm of each element in `x`.\n",
    "\n",
    "#### Examples\n",
    "```python\n",
    "import numpy as np\n",
    "x = np.array([1, 2, 3])\n",
    "np.log(x)  # array([0.        , 0.69314718, 1.09861229])\n",
    "```"
   ]
  },
  {
   "cell_type": "code",
   "execution_count": 18,
   "id": "20938c39-0024-49e5-9749-5b007815b3d3",
   "metadata": {},
   "outputs": [
    {
     "data": {
      "text/plain": [
       "array([0.        , 0.69314718, 1.09861229])"
      ]
     },
     "execution_count": 18,
     "metadata": {},
     "output_type": "execute_result"
    }
   ],
   "source": [
    "# Interactive Example\n",
    "import numpy as np\n",
    "x = np.array([1, 2, 3])\n",
    "result = np.log(x)\n",
    "result"
   ]
  },
  {
   "cell_type": "markdown",
   "id": "653f8089-7b40-4180-b244-7c5735c7d366",
   "metadata": {},
   "source": [
    "### log10\n",
    "#### Function Description\n",
    "Compute the base-10 logarithm, element-wise.\n",
    "\n",
    "##### Parameters\n",
    "* `x` : array_like - Input values.\n",
    "\n",
    "#### Returns\n",
    "* `out` : ndarray - The base-10 logarithm of each element in `x`.\n",
    "\n",
    "#### Examples\n",
    "```python\n",
    "import numpy as np\n",
    "x = np.array([1, 10, 100])\n",
    "np.log10(x)  # array([0.        , 1.        , 2.        ])\n",
    "```"
   ]
  },
  {
   "cell_type": "code",
   "execution_count": 19,
   "id": "618662bc-3bd0-42f7-b4b4-e6d2cdadede0",
   "metadata": {},
   "outputs": [
    {
     "data": {
      "text/plain": [
       "array([0., 1., 2.])"
      ]
     },
     "execution_count": 19,
     "metadata": {},
     "output_type": "execute_result"
    }
   ],
   "source": [
    "# Interactive Example\n",
    "import numpy as np\n",
    "x = np.array([1, 10, 100])\n",
    "result = np.log10(x)\n",
    "result"
   ]
  },
  {
   "cell_type": "markdown",
   "id": "a5864b9a-3cd3-4674-bddd-1f5672c6ef10",
   "metadata": {},
   "source": [
    "### sin()\n",
    "#### Function Description\n",
    "Computes the trigonometric sine of an array element-wise.\n",
    "\n",
    "#### Parameters\n",
    "* `x`: Input array.\n",
    "\n",
    "#### Returns\n",
    "* `out`: Output array with same shape as `x`.\n",
    "\n",
    "#### Examples\n",
    "```python\n",
    "import numpy as np\n",
    "x = np.array([0, np.pi/2, np.pi])\n",
    "print(np.sin(x))  # Output: [ 0.          1.          -0.        ]\n",
    "```"
   ]
  },
  {
   "cell_type": "code",
   "execution_count": 20,
   "id": "0eaf96cc-3877-43c5-ab62-9d8a681e709d",
   "metadata": {},
   "outputs": [
    {
     "data": {
      "text/plain": [
       "array([0.0000000e+00, 1.0000000e+00, 1.2246468e-16])"
      ]
     },
     "execution_count": 20,
     "metadata": {},
     "output_type": "execute_result"
    }
   ],
   "source": [
    "# Interactive Example\n",
    "import numpy as np\n",
    "x = np.array([0, np.pi/2, np.pi])\n",
    "result = np.sin(x)\n",
    "result"
   ]
  },
  {
   "cell_type": "markdown",
   "id": "5990d728-d2dc-40d8-bf78-fd17e6e1d8bb",
   "metadata": {},
   "source": [
    "### sinh()\n",
    "#### Function Description\n",
    "Computes the hyperbolic sine of an array element-wise.\n",
    "\n",
    "#### Parameters\n",
    "* `x`: Input array.\n",
    "\n",
    "#### Returns\n",
    "* `out`: Output array with same shape as `x`.\n",
    "\n",
    "#### Examples\n",
    "```python\n",
    "import numpy as np\n",
    "x = np.array([0, 1, 2])\n",
    "print(np.sinh(x))  # Output: [ 0.         1.17520119  3.62686041]\n",
    "```"
   ]
  },
  {
   "cell_type": "code",
   "execution_count": null,
   "id": "68b0fc6b-33b8-432b-9213-d6a12b0fe1ac",
   "metadata": {},
   "outputs": [],
   "source": [
    "# Interactive Example\n",
    "import numpy as np\n",
    "x = np.array([0, 1, 2])\n",
    "result = np.sinh(x)\n",
    "result"
   ]
  },
  {
   "cell_type": "markdown",
   "id": "158142b9-3cff-488d-b744-76a7c2aea227",
   "metadata": {},
   "source": [
    "### sqrt()\n",
    "#### Function Description\n",
    "Computes the element-wise square root of an array.\n",
    "\n",
    "#### Parameters\n",
    "* `x`: Input array.\n",
    "\n",
    "#### Returns\n",
    "* `out`: Output array with same shape as `x`.\n",
    "\n",
    "#### Examples\n",
    "```python\n",
    "import numpy as np\n",
    "x = np.array([1, 4, 9])\n",
    "print(np.sqrt(x))  # Output: [1. 2. 3.]\n",
    "```"
   ]
  },
  {
   "cell_type": "code",
   "execution_count": 21,
   "id": "59714e97-529b-4f95-aa0d-23d0ac13bbc4",
   "metadata": {},
   "outputs": [
    {
     "data": {
      "text/plain": [
       "array([1., 2., 3.])"
      ]
     },
     "execution_count": 21,
     "metadata": {},
     "output_type": "execute_result"
    }
   ],
   "source": [
    "# Interactive Example\n",
    "import numpy as np\n",
    "x = np.array([1, 4, 9])\n",
    "result = np.sqrt(x)\n",
    "result"
   ]
  },
  {
   "cell_type": "markdown",
   "id": "4daa4788-616b-4155-8ee5-074d38831bd3",
   "metadata": {},
   "source": [
    "### tan()\n",
    "#### Function Description\n",
    "Computes the trigonometric tangent of an array element-wise.\n",
    "\n",
    "#### Parameters\n",
    "* `x`: Input array.\n",
    "\n",
    "#### Returns\n",
    "* `out`: Output array with same shape as `x`.\n",
    "\n",
    "#### Examples\n",
    "```python\n",
    "import numpy as np\n",
    "x = np.array([0, np.pi/4, np.pi/2])\n",
    "print(np.tan(x))  # Output: [ 0.         1.         -inf]\n",
    "```"
   ]
  },
  {
   "cell_type": "code",
   "execution_count": 22,
   "id": "2fe4332c-ef1b-4779-b825-445add9c2a72",
   "metadata": {},
   "outputs": [
    {
     "data": {
      "text/plain": [
       "array([0.00000000e+00, 1.00000000e+00, 1.63312394e+16])"
      ]
     },
     "execution_count": 22,
     "metadata": {},
     "output_type": "execute_result"
    }
   ],
   "source": [
    "# Interactive Example\n",
    "import numpy as np\n",
    "x = np.array([0, np.pi/4, np.pi/2])\n",
    "result = np.tan(x)\n",
    "result"
   ]
  },
  {
   "cell_type": "markdown",
   "id": "563a32e8-45dc-4312-9109-30b3ad776279",
   "metadata": {},
   "source": [
    "### tanh()\n",
    "##### Function Description\n",
    "Computes the hyperbolic tangent of an array element-wise.\n",
    "\n",
    "#### Parameters\n",
    "* `x`: Input array.\n",
    "\n",
    "#### Returns\n",
    "* `out`: Output array with same shape as `x`.\n",
    "\n",
    "#### Examples\n",
    "```python\n",
    "import numpy as np\n",
    "x = np.array([0, 1, 2])\n",
    "print(np.tanh(x))  # Output: [ 0.         0.76159416  0.96402758]\n",
    "```"
   ]
  },
  {
   "cell_type": "code",
   "execution_count": 23,
   "id": "f7fed1b4-9d75-465d-8955-2ff801f49e00",
   "metadata": {},
   "outputs": [
    {
     "data": {
      "text/plain": [
       "array([0.        , 0.76159416, 0.96402758])"
      ]
     },
     "execution_count": 23,
     "metadata": {},
     "output_type": "execute_result"
    }
   ],
   "source": [
    "# Interactive Example\n",
    "import numpy as np\n",
    "x = np.array([0, 1, 2])\n",
    "result = np.tanh(x)\n",
    "result"
   ]
  }
 ],
 "metadata": {
  "kernelspec": {
   "display_name": "numpy-dev",
   "language": "python",
   "name": "numpy-dev"
  },
  "language_info": {
   "codemirror_mode": {
    "name": "ipython",
    "version": 3
   },
   "file_extension": ".py",
   "mimetype": "text/x-python",
   "name": "python",
   "nbconvert_exporter": "python",
   "pygments_lexer": "ipython3",
   "version": "3.11.9"
  }
 },
 "nbformat": 4,
 "nbformat_minor": 5
}

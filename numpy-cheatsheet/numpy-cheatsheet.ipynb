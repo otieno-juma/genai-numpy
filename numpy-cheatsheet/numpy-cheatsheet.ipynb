{
 "cells": [
  {
   "cell_type": "markdown",
   "metadata": {},
   "source": [
    "# NumPy Cheat Sheet"
   ]
  },
  {
   "cell_type": "markdown",
   "metadata": {},
   "source": [
    "## Creating Arrays"
   ]
  },
  {
   "cell_type": "code",
   "execution_count": null,
   "metadata": {
    "vscode": {
     "languageId": "plaintext"
    }
   },
   "outputs": [],
   "source": [
    "import numpy as np\n",
    "\n",
    "# From a list\n",
    "a = np.array([1, 2, 3])\n",
    "\n",
    "# From a list of lists\n",
    "b = np.array([[1, 2, 3], [4, 5, 6]])\n",
    "\n",
    "# With a function\n",
    "c = np.arange(0, 10, 2)    # [0, 2, 4, 6, 8]\n",
    "d = np.linspace(0, 1, 6)   # [0., 0.2, 0.4, 0.6, 0.8, 1.]"
   ]
  },
  {
   "cell_type": "markdown",
   "metadata": {},
   "source": [
    "## Inspecting Arrays"
   ]
  },
  {
   "cell_type": "code",
   "execution_count": null,
   "metadata": {
    "vscode": {
     "languageId": "plaintext"
    }
   },
   "outputs": [],
   "source": [
    "# Shape of the array\n",
    "a.shape\n",
    "\n",
    "# Number of dimensions\n",
    "a.ndim\n",
    "\n",
    "# Number of elements\n",
    "a.size\n",
    "\n",
    "# Data type of elements\n",
    "a.dtype\n",
    "\n",
    "# Reshape array\n",
    "b.reshape((3, 2))"
   ]
  },
  {
   "cell_type": "markdown",
   "metadata": {},
   "source": [
    "## Operations"
   ]
  },
  {
   "cell_type": "code",
   "execution_count": null,
   "metadata": {
    "vscode": {
     "languageId": "plaintext"
    }
   },
   "outputs": [],
   "source": [
    "# Elementwise operations\n",
    "a + 1\n",
    "a ** 2\n",
    "\n",
    "# Universal functions (ufuncs)\n",
    "np.sin(a)\n",
    "np.log(a)\n",
    "np.exp(a)\n",
    "\n",
    "# Aggregate functions\n",
    "a.sum()\n",
    "a.min()\n",
    "a.max()\n",
    "a.mean()\n",
    "a.std()\n",
    "\n",
    "# Matrix operations\n",
    "np.dot(a, b)\n"
   ]
  },
  {
   "cell_type": "markdown",
   "metadata": {},
   "source": [
    "## Indexing & Slicing"
   ]
  },
  {
   "cell_type": "code",
   "execution_count": null,
   "metadata": {
    "vscode": {
     "languageId": "plaintext"
    }
   },
   "outputs": [],
   "source": [
    "# Accessing elements\n",
    "a[0]        # First element\n",
    "a[-1]       # Last element\n",
    "\n",
    "# Slicing\n",
    "a[1:3]      # Elements from index 1 to 2\n",
    "b[:, 1]     # All rows, second column\n",
    "b[1, :]     # Second row, all columns\n",
    "b[1, 1]     # Element at row 1, column 1\n"
   ]
  },
  {
   "cell_type": "markdown",
   "metadata": {},
   "source": [
    "## Broadcasting"
   ]
  },
  {
   "cell_type": "code",
   "execution_count": null,
   "metadata": {
    "vscode": {
     "languageId": "plaintext"
    }
   },
   "outputs": [],
   "source": [
    "# Adding a scalar to an array\n",
    "a + 1\n",
    "\n",
    "# Adding arrays of different shapes\n",
    "a = np.array([1, 2, 3])\n",
    "b = np.array([[0], [1], [2]])\n",
    "a + b"
   ]
  },
  {
   "cell_type": "markdown",
   "metadata": {},
   "source": [
    "## Boolean Indexing"
   ]
  },
  {
   "cell_type": "code",
   "execution_count": null,
   "metadata": {
    "vscode": {
     "languageId": "plaintext"
    }
   },
   "outputs": [],
   "source": [
    "# Conditional indexing\n",
    "a[a > 1]\n",
    "\n",
    "# Using boolean array\n",
    "b = np.array([True, False, True])\n",
    "a[b]\n"
   ]
  },
  {
   "cell_type": "markdown",
   "metadata": {
    "vscode": {
     "languageId": "plaintext"
    }
   },
   "source": [
    "## Linear Algebra"
   ]
  },
  {
   "cell_type": "code",
   "execution_count": null,
   "metadata": {
    "vscode": {
     "languageId": "plaintext"
    }
   },
   "outputs": [],
   "source": [
    "# Identity matrix\n",
    "np.eye(3)\n",
    "\n",
    "# Diagonal matrix\n",
    "np.diag(a)\n",
    "\n",
    "# Inverse matrix\n",
    "np.linalg.inv(b)\n",
    "\n",
    "# Eigenvalues and eigenvectors\n",
    "np.linalg.eig(b)\n"
   ]
  },
  {
   "cell_type": "markdown",
   "metadata": {},
   "source": [
    "## Random"
   ]
  },
  {
   "cell_type": "code",
   "execution_count": null,
   "metadata": {
    "vscode": {
     "languageId": "plaintext"
    }
   },
   "outputs": [],
   "source": [
    "# Random numbers\n",
    "np.random.rand(3, 2)\n",
    "np.random.randn(3, 2)\n",
    "np.random.randint(0, 10, (3, 2))\n"
   ]
  },
  {
   "cell_type": "markdown",
   "metadata": {},
   "source": [
    "## Reading and Writing Files"
   ]
  },
  {
   "cell_type": "code",
   "execution_count": null,
   "metadata": {
    "vscode": {
     "languageId": "plaintext"
    }
   },
   "outputs": [],
   "source": [
    "# Save to file\n",
    "np.save('file.npy', a)\n",
    "\n",
    "# Load from file\n",
    "a = np.load('file.npy')\n",
    "\n",
    "# Save to text file\n",
    "np.savetxt('file.txt', a)\n",
    "\n",
    "# Load from text file\n",
    "a = np.loadtxt('file.txt')"
   ]
  }
 ],
 "metadata": {
  "language_info": {
   "name": "python"
  }
 },
 "nbformat": 4,
 "nbformat_minor": 2
}
